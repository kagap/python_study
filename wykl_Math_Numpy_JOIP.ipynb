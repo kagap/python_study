{
 "cells": [
  {
   "cell_type": "markdown",
   "metadata": {
    "slideshow": {
     "slide_type": "slide"
    }
   },
   "source": [
    "# Języki Obiektowe I (Python)  - biblioteka `math`,`random` i `numpy`\n",
    "\n",
    "###### mgr inż. Arkadiusz Banasik"
   ]
  },
  {
   "cell_type": "markdown",
   "metadata": {
    "slideshow": {
     "slide_type": "slide"
    }
   },
   "source": [
    "### Krótka powtórka"
   ]
  },
  {
   "cell_type": "markdown",
   "metadata": {
    "slideshow": {
     "slide_type": "subslide"
    }
   },
   "source": [
    "+ poznaliśmy liczby i operacje na nich\n",
    "\n",
    "Typ | Operacje | Metody\n",
    ":---:|:---:|:---:\n",
    "`int`|`+ - * / ** % //`|`is_integer()`, `abs()`\n",
    "`float`|`+ - * / ** % //`|`abs()`, `round()`\n",
    "`complex`|`+ - * / ** `|`.real`, `.imag`, `abs()`, `conjugate()`\n",
    "\n",
    "Konwersja typów: `int()`, `float()`, `complex()`"
   ]
  },
  {
   "cell_type": "markdown",
   "metadata": {
    "slideshow": {
     "slide_type": "subslide"
    }
   },
   "source": [
    "+ poznaliśmy łańcuchy znaków i operacje na nich\n",
    "\n",
    "`string = \"ala ma pythona\"`\n",
    "\n",
    "Metoda/operator | Przykład\n",
    ":---:|:---:\n",
    "`+`|`string + string = 'ala ma pythonaala ma pythona'`\n",
    "`*`|`string * 2 = 'ala ma pythonaala ma pythona'`\n",
    "`string[x]`|`string[0] = 'a'`\n",
    "`string[x:y]`|`string[0:3] = 'ala'`\n",
    "`string[x:y:z]`|`string[0:13:2] = 'aam yhn'`\n",
    "`len()`|`len(string) = 14`\n",
    "`split()`|`string.split(' ') = ['ala', 'ma', 'pythona']`\n",
    "`replace()`|`string.replace(\"pythona\", \"kota\") = 'ala ma kota'`\n",
    "`format()`|`\"ala ma {} pythony\".format(2) = 'ala ma 2 pythony'`\n",
    "`count()`|`string.count(\"a\") = 4`\n",
    "\n",
    "Zamiana na typ string: `str()`"
   ]
  },
  {
   "cell_type": "markdown",
   "metadata": {
    "slideshow": {
     "slide_type": "subslide"
    }
   },
   "source": [
    "+ poznaliśmy instrukcje sterujące\n",
    "\n",
    "```\n",
    "if warunek_1:\n",
    "    blok instrukcji 1\n",
    "elif warunek_2:\n",
    "    blok instrukcji 2\n",
    "elif warunek_3:\n",
    "    blok instrukcji 3\n",
    "else:\n",
    "    blok instrukcji 4\n",
    "```"
   ]
  },
  {
   "cell_type": "markdown",
   "metadata": {
    "slideshow": {
     "slide_type": "fragment"
    }
   },
   "source": [
    "```\n",
    "while warunek:\n",
    "    blok instrukcji\n",
    "```"
   ]
  },
  {
   "cell_type": "markdown",
   "metadata": {
    "slideshow": {
     "slide_type": "fragment"
    }
   },
   "source": [
    "```\n",
    "for obiekt in obiekt_iterowalny:\n",
    "    blok instrukcji\n",
    "```"
   ]
  },
  {
   "cell_type": "markdown",
   "metadata": {
    "slideshow": {
     "slide_type": "subslide"
    }
   },
   "source": [
    "+ poznaliśmy listy i krotki\n",
    "\n",
    "`lista = [1, \"ala\"]`\n",
    "\n",
    "`krotka = (1, \"ala\")`\n",
    "\n",
    "Metoda/operator | Przykład\n",
    ":---:|:---:\n",
    "`+`|`lista + lista = [1, 'ala', 1, 'ala']`, `krotka + krotka = (1, 'ala', 1, 'ala')`\n",
    "`*`| `lista * 2 = [1, 'ala', 1, 'ala']`, `krotka * 2 = (1, 'ala', 1, 'ala')`\n",
    "`append()`|`lista.append(\"ma\") = [1, 'ala', 'ma']`\n",
    "`remove()`|`lista.remove(\"ala\") = [1]`\n",
    "`insert()`| `lista.insert(2,\"ma\") = [1, 'ala', 'ma']`\n",
    "`count()`|`lista.count(1) = 1`, `krotka.count(1) = 1`\n",
    "`index()`|`lista.index(1) = 0`, `krotka.index(1) = 0`\n",
    "`extend()`|`lista.extend(lista) = [1, 'ala', 1, 'ala']`\n",
    "\n",
    "Z listy na krotkę: `tuple()`\n",
    "\n",
    "Z krotki na listę: `list()`"
   ]
  },
  {
   "cell_type": "markdown",
   "metadata": {
    "slideshow": {
     "slide_type": "subslide"
    }
   },
   "source": [
    "+ poznaliśmy słowniki\n",
    "\n",
    "`slownik = {\"Imie\":\"Ala\", \"wiek\":20}`\n",
    "\n",
    "Metoda/operator | Przykład\n",
    ":---:|:---:\n",
    "`keys()`|`list(slownik.keys()) = ['Imie', 'wiek']`\n",
    "`values()`|`list(slownik.values()) = ['Ala', 20]`\n",
    "`items()`|`list(slownik.items()) = [('Imie', 'Ala'), ('wiek', 20)]`\n",
    "\n"
   ]
  },
  {
   "cell_type": "markdown",
   "metadata": {
    "slideshow": {
     "slide_type": "subslide"
    }
   },
   "source": [
    "+ zdefiniowaliśmy funkcje\n",
    "\n",
    "```\n",
    "def funkcja(parametr_1, parametr_2):\n",
    "    blok instrukcji\n",
    "    return wyrażenie\n",
    "```\n",
    "\n",
    "Argumenty | Przykład\n",
    ":---:|:---\n",
    "argumenty obowiązkowe|`funkcja(parametr_1, parametr_2)`\n",
    "argumenty słowa-kluczowe|`funkcja(parametr_2=wartosc_2, parametr_1=wartosc_1)`\n",
    "argumenty domyślne|`funkcja(parametr_1, parametr_2=wartosc)`\n",
    "argumenty zmiennej długości|`funkcja(*lista_argumentow)`"
   ]
  },
  {
   "cell_type": "markdown",
   "metadata": {
    "slideshow": {
     "slide_type": "fragment"
    }
   },
   "source": [
    "**Funkcje anonimowe**\n",
    "````\n",
    "nazwa_funkcji = lambda parametr, parametr_2, ..., parametr_n : wyrażenie\n",
    "````"
   ]
  },
  {
   "cell_type": "markdown",
   "metadata": {
    "slideshow": {
     "slide_type": "subslide"
    }
   },
   "source": [
    "+ poznaliśmy wyrażenia listowe\n",
    "\n",
    "```\n",
    "x = lista\n",
    "y = [funkcja(i) for i in x if warunek]\n",
    "```"
   ]
  },
  {
   "cell_type": "markdown",
   "metadata": {
    "slideshow": {
     "slide_type": "subslide"
    }
   },
   "source": [
    "+ poznaliśmy sposoby dołączania modułów do skryptu\n",
    "\n",
    "Dołączanie|Przykład wykorzystania\n",
    ":---:|:---:\n",
    "`import moduł`|`moduł.funkcja()`\n",
    "`import moduł as alias`|`alias.funkcja()`\n",
    "`from moduł import *`|`funkcja()`\n",
    "`from moduł import funkcja`|`funkcja()`"
   ]
  },
  {
   "cell_type": "markdown",
   "metadata": {
    "slideshow": {
     "slide_type": "slide"
    }
   },
   "source": [
    "### Biblioteka `math`\n",
    "\n",
    "Bibliotka oferujące podstawowe funkcje matematyczne, otoczka biblioteki `math` z języka `C`.\n",
    "\n",
    "[https://docs.python.org/3/library/math.html](https://docs.python.org/3/library/math.html)"
   ]
  },
  {
   "cell_type": "markdown",
   "metadata": {
    "slideshow": {
     "slide_type": "subslide"
    }
   },
   "source": [
    "#### Stałe matematyczne\n",
    "\n",
    "Stała|Opis\n",
    ":---:|:---:\n",
    "`pi`| $\\pi$ \n",
    "`e`|$e$\n",
    "`tau`|$\\tau = 2\\pi$, [https://www.youtube.com/watch?v=jG7vhMMXagQ](https://www.youtube.com/watch?v=jG7vhMMXagQ)\n",
    "`inf`|nieskończoność numeryczna, `float('inf')`\n",
    "`nan`|`NaN`, `float('nan')`"
   ]
  },
  {
   "cell_type": "markdown",
   "metadata": {},
   "source": [
    "#### Funkcje numeryczne\n",
    "\n",
    "Funkcja|Opis|Przykład\n",
    ":---:|:---:|:---:|\n",
    "`ceil(x)`| działa jak tradycyjny `sufit`|`ceil(-2.5)=-2`, `ceil(2.5)=3` \n",
    "`copysign(x,y)`| zwraca moduł liczby `x` ze znakiem liczby `y` czyli $\\text{sgn}(y)\\vert x \\vert$|`copysign(3,-1)=-3` \n",
    "`fabs(x)`| działa jak tradycyjny moduł|`fabs(-3)=3` \n",
    "`factorial(x)`| zwraca `x!`|`factorial(3)=6` \n",
    "`floor(x)`| działa jak tradycyjna `podłoga`|`floor(-3.5)=-4`, `floor(3.5)=3` \n",
    "`fmod(x,y)`| zwraca $x\\text{ mod }y$, zalecana przy floatach|`fmod(2.1, 1)=0.1` \n",
    "`frexp(x)`| zwraca parę (mantysa,cecha), tj. $x=mantysa\\cdot 2 ^{cecha}$|`frexp(2)=(0.5, 2)` \n",
    "`fsum(obiekt iterowalny)`| zwraca sumę obiektu iterowalnego|`fsum([-0.2, -0.2])=-0.4` "
   ]
  },
  {
   "cell_type": "markdown",
   "metadata": {
    "slideshow": {
     "slide_type": "subslide"
    }
   },
   "source": [
    "Funkcja|Opis|Przykład\n",
    ":---:|:---:|:---:|\n",
    "`gcd(x,y)`| zwraca $\\text{nwd}(x,y)$|`gcd(4,2)=2` \n",
    "`isclose(x,y, rel_tol=1e-09, abs_tol=0.0)`| sprawdza, czy `x` i `y` są bliskie, zgodnie z zadaną tolerancją|`isclose(2, 2.00000001)=False`, `isclose(2, 2.000000001)=True` \n",
    "`isfinite(x)`| zwraca `True` jeśli `x` nie jest nieskończonością albo `NaN`|`isfinite(math.inf)=False` \n",
    "`isinf(x)`| zwraca `True` jeśli x jest $\\pm$ nieskończonością|`isinf(math.inf)=True` \n",
    "`isnan(x)`| zwraca `True` jeśli x jest `NaN`|`isnan(float('nan'))=True` \n",
    "`ldexp(x,i)`| zwraca $y=x2^i$, odwrotność funkcji `frexp(y)` |`ldexp(0.5,2)=2` \n",
    "`modf(x)`| zwraca parę (część całkowita, część ułamkowa) |`modf(2.5)=(0.5,2.0)` "
   ]
  },
  {
   "cell_type": "markdown",
   "metadata": {
    "slideshow": {
     "slide_type": "subslide"
    }
   },
   "source": [
    "#### Funkcje wykładnicze i logarytmiczne\n",
    "\n",
    "Funkcja|Opis|Przykład\n",
    ":---:|:---:|:---:|\n",
    "`exp(x)`| zwraca $e^x$|`exp(0)=1.0` \n",
    "`expm1(x)`| zwraca $e^x-1$, przydatna dla małych wartości $x$|`exp(1e-5)=1.0000050000166667e-05` \n",
    "`log(x,b)`| zwraca $\\log_{b}x$, domyślnie $b=e$| `log(math.e)=1.0`, `log(4,2)=2.0` \n",
    "`log2(x)`| zwraca $\\log_2 x$|`log2(4)=2.0` \n",
    "`log10(x)`| zwraca $\\log_{10} x$|`log10(10)=1.0` \n",
    "`pow(x,y)`| zwraca $x^y$|`pow(2, 4)=16.0` \n",
    "`sqrt(x)`| zwraca $\\sqrt{x}$|`sqrt(4)=2.0` "
   ]
  },
  {
   "cell_type": "markdown",
   "metadata": {
    "slideshow": {
     "slide_type": "subslide"
    }
   },
   "source": [
    "#### Funkcje trygonometryczne, cyklometryczne, zamiana kątów\n",
    "\n",
    "Funkcja|Opis|Przykład\n",
    ":---:|:---:|:---:|\n",
    "`acos(x)`| zwraca $\\arccos{x}$|`acos(0)=1.5707963267948966` \n",
    "`asin(x)`| zwraca $\\arcsin{x}$|`asin(1)=1.5707963267948966` \n",
    "`atan(x)`| zwraca $\\arctan{x}$|`atan(1)=0.7853981633974483` \n",
    "`cos(x)`| zwraca $\\cos{x}$|`cos(1)=1.0` \n",
    "`degrees(x)`| zamienia radiany na stopnie|`degrees(math.pi/2)=90.0` \n",
    "`hypot(x,y)`| zwraca moduł liczby zespolonej $x+iy$|`hypot(1, 1)=1.4142135623730951` \n",
    "`radians(x)`| zamienia stopnie na radiany|`radians(180)=3.141592653589793`\n",
    "`sin(x)`| zwraca $\\sin{x}$|`sin(0)=0.0` \n",
    "`tan(x)`| zwraca $\\tan{x}$|`tan(0)=0.0` "
   ]
  },
  {
   "cell_type": "markdown",
   "metadata": {
    "slideshow": {
     "slide_type": "subslide"
    }
   },
   "source": [
    "#### Funkcje hiperboliczne i area\n",
    "\n",
    "Funkcja|Opis|Przykład\n",
    ":---:|:---:|:---:\n",
    "`acosh(x)`| zwraca $\\text{acosh}x$|`acosh(1)=0.0`\n",
    "`asinh(x)`| zwraca $\\text{asinh}x$|`asinh(0)=0.0`\n",
    "`atanh(x)`| zwraca $\\text{asinh}x$|`atanh(0)=0.0`\n",
    "`cosh(x)`| zwraca $\\text{cosh}x$|`cosh(0)=1.0`\n",
    "`tanh(x)`| zwraca $\\text{tanh}x$|`tanh(0)=0.0`"
   ]
  },
  {
   "cell_type": "markdown",
   "metadata": {
    "slideshow": {
     "slide_type": "subslide"
    }
   },
   "source": [
    "#### Funkcje specjalne\n",
    "\n",
    "Funkcja|Opis\n",
    ":---:|:---:\n",
    "`erf(x)`| funkcja błędu, $erf(x) = \\frac{2}{\\sqrt{\\pi}}\\int\\limits_0^x e^{-t^2} dt$\n",
    "`erfc(x)`| uzupełniająca funkcja błędu, $erfc(x) =1-erf(x)=1- \\frac{2}{\\sqrt{\\pi}}\\int\\limits_x^{\\infty} e^{-t^2} dt$\n",
    "`gamma(x)`| funkcja Gamma, $\\Gamma (x) = \\int\\limits_0^{\\infty} x^{z-1}e^{-x} dx  \\text{ dla  }  Re(z) > 0$"
   ]
  },
  {
   "cell_type": "markdown",
   "metadata": {
    "collapsed": true,
    "slideshow": {
     "slide_type": "slide"
    }
   },
   "source": [
    "### Biblioteka `random`\n",
    "\n",
    "Zawiera metody do generowania wartości (pseudo)losowych z różnych rozkładów.\n",
    "[https://www.random.org/analysis/](https://www.random.org/analysis/)"
   ]
  },
  {
   "cell_type": "markdown",
   "metadata": {
    "slideshow": {
     "slide_type": "subslide"
    }
   },
   "source": [
    "#### Generowanie wartości całkowitych\n",
    "\n",
    "Funkcja|Opis\n",
    ":---:|:---:\n",
    "`randint(a, b)`| zwraca wartość całkowitą z przedziału $[a,b]$\n",
    "`range(a, b, krok)`| zwraca wartość całkowitą z przedziału $[a,b]$ z odpowiednim `krokiem`"
   ]
  },
  {
   "cell_type": "markdown",
   "metadata": {
    "slideshow": {
     "slide_type": "subslide"
    }
   },
   "source": [
    "#### Generowanie wartości zmiennoprzecinkowych\n",
    "\n",
    "Funkcja|Opis\n",
    ":---:|:---:\n",
    "`random()`| zwraca wartość z przedziału $[0,1]$\n",
    "`uniform(a, b)`| zwraca wartość z przedziału $[a,b]$ \n",
    "`triangular(a, b, moda)` | zwraca wartość z przedziału $[a,b]$ z modą w punkcie `moda`\n",
    "`expovariate(lambd)`|zwraca wartość z rozkładu wykładniczego z $\\lambda$ = `lambda`\n",
    "`gauss(srednia, odchylenie)`|zwraca wartość z rozkładu normalnego z odpowiednią `średnią` i `odchyleniem`\n",
    "`paretovariate(alpha)`|zwraca wartość z rozkładu Pareto z parametrem kształtu `alpha`\n",
    "`weibullvariate(alpha, beta)`|zwraca wartość z rozkładu Wiebulla z parametrem skali = `alpha` i parametrem kształtu = `beta`"
   ]
  },
  {
   "cell_type": "markdown",
   "metadata": {
    "slideshow": {
     "slide_type": "subslide"
    }
   },
   "source": [
    "#### Metody dla zbiorów\n",
    "\n",
    "Funkcja|Opis|Przykład\n",
    ":---:|:---:|:---:\n",
    "`choice(zbiór)`| zwraca wartość z podanego `zbioru`|`choice([\"ala\", \"ma\", \"kota\"])='ala'`\n",
    "`choices(zbiór, wagi, k=1)`|zwraca `k` wartości z powtórzniami ze `zbioru` z uzględnieniem `wag` |`choices([\"ala\", \"ma\", \"kota\"], [0.1,0.1, 0.8])=['kota']`\n",
    "`shuffle(zbiór)`|permutuje elementy zbioru|`zb=[\"ala\", \"ma\", \"kota\"] shuffle(zb) zb=['kota', 'ma', 'ala']`\n",
    "`sample(zbiór, k)`|zwraca `k` elementów bez powtórzeń ze `zbioru`|`sample([\"ala\", \"ma\", \"kota\"], k=2)=['ma', 'kota']`"
   ]
  },
  {
   "cell_type": "markdown",
   "metadata": {
    "collapsed": true,
    "slideshow": {
     "slide_type": "slide"
    }
   },
   "source": [
    "### Biblioteka `numpy`\n",
    "Biblioteka numeryczna `Pythona`.\n",
    "\n",
    "[http://www.numpy.org/](http://www.numpy.org/)"
   ]
  },
  {
   "cell_type": "markdown",
   "metadata": {
    "slideshow": {
     "slide_type": "subslide"
    }
   },
   "source": [
    "### Tablice i macierze w `numpy`"
   ]
  },
  {
   "cell_type": "markdown",
   "metadata": {
    "slideshow": {
     "slide_type": "subslide"
    }
   },
   "source": [
    "###### `array()`\n",
    "\n",
    "W przeciwieństwie do tablic pythonowych `numpy` dostarcza potężnych narzędzi do pracy z listami i macierzami ale wymaga, by elementy tych struktur miały ten sam typ. "
   ]
  },
  {
   "cell_type": "code",
   "execution_count": 4,
   "metadata": {
    "slideshow": {
     "slide_type": "subslide"
    }
   },
   "outputs": [
    {
     "name": "stdout",
     "output_type": "stream",
     "text": [
      "[1 2 3 4 5]\n"
     ]
    }
   ],
   "source": [
    "import numpy as np\n",
    "\n",
    "lista = np.array([1, 2, 3, 4, 5])\n",
    "\n",
    "print(lista)"
   ]
  },
  {
   "cell_type": "code",
   "execution_count": 5,
   "metadata": {
    "slideshow": {
     "slide_type": "subslide"
    }
   },
   "outputs": [
    {
     "name": "stdout",
     "output_type": "stream",
     "text": [
      "[3.14 2.   3.   4.   5.  ]\n"
     ]
    }
   ],
   "source": [
    "print(np.array([3.14, 2, 3, 4, 5]))"
   ]
  },
  {
   "cell_type": "code",
   "execution_count": 6,
   "metadata": {
    "slideshow": {
     "slide_type": "subslide"
    }
   },
   "outputs": [
    {
     "name": "stdout",
     "output_type": "stream",
     "text": [
      "[[1 2]\n",
      " [3 4]]\n"
     ]
    }
   ],
   "source": [
    "macierz = np.array([[1, 2], [3, 4]])\n",
    "\n",
    "print(macierz)"
   ]
  },
  {
   "cell_type": "code",
   "execution_count": 7,
   "metadata": {
    "slideshow": {
     "slide_type": "subslide"
    }
   },
   "outputs": [
    {
     "name": "stdout",
     "output_type": "stream",
     "text": [
      "[[1 2 3]\n",
      " [4 5 6]\n",
      " [7 8 9]]\n"
     ]
    }
   ],
   "source": [
    "macierz = np.array([range(i, i + 3) for i in [1, 4, 7]])\n",
    "\n",
    "print(macierz)"
   ]
  },
  {
   "cell_type": "markdown",
   "metadata": {
    "slideshow": {
     "slide_type": "subslide"
    }
   },
   "source": [
    "##### `zeros()`, `ones()` i `full()`"
   ]
  },
  {
   "cell_type": "code",
   "execution_count": 9,
   "metadata": {
    "slideshow": {
     "slide_type": "fragment"
    }
   },
   "outputs": [
    {
     "name": "stdout",
     "output_type": "stream",
     "text": [
      "[0. 0. 0. 0. 0. 0. 0. 0. 0. 0.]\n",
      "[1. 1. 1. 1. 1. 1. 1. 1. 1. 1.]\n",
      "[3.14 3.14 3.14 3.14 3.14 3.14 3.14 3.14 3.14 3.14]\n"
     ]
    }
   ],
   "source": [
    "macierz_1 = np.zeros(10)\n",
    "macierz_2 = np.ones(10)\n",
    "macierz_3 = np.full(10, 3.14)\n",
    "\n",
    "print(macierz_1)\n",
    "print(macierz_2)\n",
    "print(macierz_3)"
   ]
  },
  {
   "cell_type": "code",
   "execution_count": 8,
   "metadata": {
    "slideshow": {
     "slide_type": "subslide"
    }
   },
   "outputs": [
    {
     "name": "stdout",
     "output_type": "stream",
     "text": [
      "[[0 0 0]\n",
      " [0 0 0]]\n",
      "[[ True  True]\n",
      " [ True  True]\n",
      " [ True  True]]\n",
      "[[3 3 3]\n",
      " [3 3 3]\n",
      " [3 3 3]]\n"
     ]
    }
   ],
   "source": [
    "macierz_1 = np.zeros((2,3), dtype=int)\n",
    "macierz_2 = np.ones((3,2), dtype=bool)\n",
    "macierz_3 = np.full((3,3), 3.14, dtype=int)\n",
    "\n",
    "print(macierz_1)\n",
    "print(macierz_2)\n",
    "print(macierz_3)"
   ]
  },
  {
   "cell_type": "markdown",
   "metadata": {
    "slideshow": {
     "slide_type": "subslide"
    }
   },
   "source": [
    "##### `arange()` i `linspace()`"
   ]
  },
  {
   "cell_type": "code",
   "execution_count": 11,
   "metadata": {
    "slideshow": {
     "slide_type": "fragment"
    }
   },
   "outputs": [
    {
     "name": "stdout",
     "output_type": "stream",
     "text": [
      "[0 2 4 6 8]\n"
     ]
    }
   ],
   "source": [
    "wektor = np.arange(0, 10, 2)\n",
    "\n",
    "print(wektor)"
   ]
  },
  {
   "cell_type": "code",
   "execution_count": 12,
   "metadata": {
    "slideshow": {
     "slide_type": "fragment"
    }
   },
   "outputs": [
    {
     "name": "stdout",
     "output_type": "stream",
     "text": [
      "[0.         0.11111111 0.22222222 0.33333333 0.44444444 0.55555556\n",
      " 0.66666667 0.77777778 0.88888889 1.        ]\n"
     ]
    }
   ],
   "source": [
    "wektor = np.linspace(0, 1, 10)\n",
    "\n",
    "print(wektor)"
   ]
  },
  {
   "cell_type": "code",
   "execution_count": 13,
   "metadata": {
    "slideshow": {
     "slide_type": "fragment"
    }
   },
   "outputs": [
    {
     "name": "stdout",
     "output_type": "stream",
     "text": [
      "[0.  0.1 0.2 0.3 0.4 0.5 0.6 0.7 0.8 0.9]\n"
     ]
    }
   ],
   "source": [
    "wektor = np.linspace(0, 1, 10, endpoint=False)\n",
    "\n",
    "print(wektor)"
   ]
  },
  {
   "cell_type": "markdown",
   "metadata": {
    "slideshow": {
     "slide_type": "subslide"
    }
   },
   "source": [
    "##### `eye()`"
   ]
  },
  {
   "cell_type": "code",
   "execution_count": 14,
   "metadata": {
    "slideshow": {
     "slide_type": "fragment"
    }
   },
   "outputs": [
    {
     "name": "stdout",
     "output_type": "stream",
     "text": [
      "[[1. 0. 0.]\n",
      " [0. 1. 0.]\n",
      " [0. 0. 1.]]\n"
     ]
    }
   ],
   "source": [
    "macierz = np.eye(3)\n",
    "\n",
    "print(macierz)"
   ]
  },
  {
   "cell_type": "markdown",
   "metadata": {
    "slideshow": {
     "slide_type": "subslide"
    }
   },
   "source": [
    "##### Atrybuty macierzy\n",
    "\n",
    "##### `ndim`, `shape`, `size`"
   ]
  },
  {
   "cell_type": "code",
   "execution_count": 15,
   "metadata": {
    "slideshow": {
     "slide_type": "fragment"
    }
   },
   "outputs": [
    {
     "name": "stdout",
     "output_type": "stream",
     "text": [
      "[[1 2 3]\n",
      " [4 5 6]\n",
      " [7 8 9]]\n",
      "2\n",
      "(3, 3)\n",
      "9\n"
     ]
    }
   ],
   "source": [
    "macierz = np.array([range(i, i + 3) for i in [1, 4, 7]])\n",
    "\n",
    "print(macierz)\n",
    "print(macierz.ndim)\n",
    "print(macierz.shape)\n",
    "print(macierz.size)"
   ]
  },
  {
   "cell_type": "markdown",
   "metadata": {
    "slideshow": {
     "slide_type": "subslide"
    }
   },
   "source": [
    "##### Dostęp do elementów macierzy"
   ]
  },
  {
   "cell_type": "code",
   "execution_count": 9,
   "metadata": {
    "slideshow": {
     "slide_type": "fragment"
    }
   },
   "outputs": [
    {
     "name": "stdout",
     "output_type": "stream",
     "text": [
      "[[1 2 3]\n",
      " [4 5 6]\n",
      " [7 8 9]]\n"
     ]
    }
   ],
   "source": [
    "macierz = np.array([range(i, i + 3) for i in [1, 4, 7]])\n",
    "\n",
    "print(macierz)"
   ]
  },
  {
   "cell_type": "code",
   "execution_count": 10,
   "metadata": {
    "slideshow": {
     "slide_type": "fragment"
    }
   },
   "outputs": [
    {
     "name": "stdout",
     "output_type": "stream",
     "text": [
      "[1 2 3]\n"
     ]
    }
   ],
   "source": [
    "print(macierz[0])"
   ]
  },
  {
   "cell_type": "code",
   "execution_count": 11,
   "metadata": {
    "slideshow": {
     "slide_type": "fragment"
    }
   },
   "outputs": [
    {
     "name": "stdout",
     "output_type": "stream",
     "text": [
      "1\n"
     ]
    }
   ],
   "source": [
    "print(macierz[0, 0])"
   ]
  },
  {
   "cell_type": "code",
   "execution_count": 12,
   "metadata": {
    "slideshow": {
     "slide_type": "fragment"
    }
   },
   "outputs": [
    {
     "name": "stdout",
     "output_type": "stream",
     "text": [
      "1\n"
     ]
    }
   ],
   "source": [
    "print(macierz[0][0])"
   ]
  },
  {
   "cell_type": "code",
   "execution_count": 20,
   "metadata": {
    "slideshow": {
     "slide_type": "subslide"
    }
   },
   "outputs": [
    {
     "name": "stdout",
     "output_type": "stream",
     "text": [
      "[7 8 9]\n"
     ]
    }
   ],
   "source": [
    "print(macierz[-1])"
   ]
  },
  {
   "cell_type": "code",
   "execution_count": 21,
   "metadata": {
    "slideshow": {
     "slide_type": "fragment"
    }
   },
   "outputs": [
    {
     "name": "stdout",
     "output_type": "stream",
     "text": [
      "3\n"
     ]
    }
   ],
   "source": [
    "print(macierz[0, -1])"
   ]
  },
  {
   "cell_type": "markdown",
   "metadata": {
    "slideshow": {
     "slide_type": "subslide"
    }
   },
   "source": [
    "##### Cięcie macierzy"
   ]
  },
  {
   "cell_type": "code",
   "execution_count": 22,
   "metadata": {
    "slideshow": {
     "slide_type": "fragment"
    }
   },
   "outputs": [
    {
     "name": "stdout",
     "output_type": "stream",
     "text": [
      "[0 1 2 3 4 5 6 7 8 9]\n"
     ]
    }
   ],
   "source": [
    "wektor = x = np.arange(10)\n",
    "\n",
    "print(wektor)"
   ]
  },
  {
   "cell_type": "code",
   "execution_count": 23,
   "metadata": {
    "slideshow": {
     "slide_type": "fragment"
    }
   },
   "outputs": [
    {
     "name": "stdout",
     "output_type": "stream",
     "text": [
      "[0 1 2 3 4 5 6]\n"
     ]
    }
   ],
   "source": [
    "print(wektor[:7])"
   ]
  },
  {
   "cell_type": "code",
   "execution_count": 24,
   "metadata": {
    "slideshow": {
     "slide_type": "fragment"
    }
   },
   "outputs": [
    {
     "name": "stdout",
     "output_type": "stream",
     "text": [
      "[7 8 9]\n"
     ]
    }
   ],
   "source": [
    "print(wektor[7:])"
   ]
  },
  {
   "cell_type": "code",
   "execution_count": 25,
   "metadata": {
    "slideshow": {
     "slide_type": "fragment"
    }
   },
   "outputs": [
    {
     "name": "stdout",
     "output_type": "stream",
     "text": [
      "[1 2 3 4 5 6]\n"
     ]
    }
   ],
   "source": [
    "print(wektor[1:7])"
   ]
  },
  {
   "cell_type": "code",
   "execution_count": 26,
   "metadata": {
    "slideshow": {
     "slide_type": "subslide"
    }
   },
   "outputs": [
    {
     "name": "stdout",
     "output_type": "stream",
     "text": [
      "[1 3 5]\n"
     ]
    }
   ],
   "source": [
    "print(wektor[1:7:2])"
   ]
  },
  {
   "cell_type": "code",
   "execution_count": 27,
   "metadata": {
    "scrolled": true,
    "slideshow": {
     "slide_type": "fragment"
    }
   },
   "outputs": [
    {
     "name": "stdout",
     "output_type": "stream",
     "text": [
      "[9 8 7 6 5 4 3 2 1 0]\n"
     ]
    }
   ],
   "source": [
    "print(wektor[::-1])"
   ]
  },
  {
   "cell_type": "code",
   "execution_count": 28,
   "metadata": {
    "slideshow": {
     "slide_type": "fragment"
    }
   },
   "outputs": [
    {
     "name": "stdout",
     "output_type": "stream",
     "text": [
      "[[1 2]\n",
      " [4 5]]\n"
     ]
    }
   ],
   "source": [
    "macierz = np.array([range(i, i + 3) for i in [1, 4, 7]])\n",
    "\n",
    "print(macierz[:2, :2])"
   ]
  },
  {
   "cell_type": "code",
   "execution_count": 29,
   "metadata": {
    "slideshow": {
     "slide_type": "subslide"
    }
   },
   "outputs": [
    {
     "name": "stdout",
     "output_type": "stream",
     "text": [
      "[[9 8 7]\n",
      " [6 5 4]\n",
      " [3 2 1]]\n"
     ]
    }
   ],
   "source": [
    "print(macierz[::-1, ::-1])"
   ]
  },
  {
   "cell_type": "code",
   "execution_count": 30,
   "metadata": {
    "slideshow": {
     "slide_type": "fragment"
    }
   },
   "outputs": [
    {
     "name": "stdout",
     "output_type": "stream",
     "text": [
      "[[1 3]\n",
      " [4 6]]\n"
     ]
    }
   ],
   "source": [
    "print(macierz[:2, ::2])"
   ]
  },
  {
   "cell_type": "code",
   "execution_count": 31,
   "metadata": {
    "slideshow": {
     "slide_type": "fragment"
    }
   },
   "outputs": [
    {
     "name": "stdout",
     "output_type": "stream",
     "text": [
      "[1 4 7]\n"
     ]
    }
   ],
   "source": [
    "print(macierz[:, 0])"
   ]
  },
  {
   "cell_type": "markdown",
   "metadata": {
    "slideshow": {
     "slide_type": "subslide"
    }
   },
   "source": [
    "##### Zmiana wartości elementu"
   ]
  },
  {
   "cell_type": "code",
   "execution_count": 32,
   "metadata": {
    "slideshow": {
     "slide_type": "fragment"
    }
   },
   "outputs": [
    {
     "name": "stdout",
     "output_type": "stream",
     "text": [
      "[[-1  2  3]\n",
      " [ 4  5  6]\n",
      " [ 7  8  9]]\n"
     ]
    }
   ],
   "source": [
    "macierz[0,0] = -1\n",
    "\n",
    "print(macierz)"
   ]
  },
  {
   "cell_type": "markdown",
   "metadata": {
    "slideshow": {
     "slide_type": "subslide"
    }
   },
   "source": [
    "##### Kopiowanie macierzy\n",
    "\n",
    "##### `copy()`"
   ]
  },
  {
   "cell_type": "code",
   "execution_count": 33,
   "metadata": {
    "slideshow": {
     "slide_type": "fragment"
    }
   },
   "outputs": [
    {
     "name": "stdout",
     "output_type": "stream",
     "text": [
      "[[-1  2  3]\n",
      " [ 4  5  6]\n",
      " [ 7  8  9]]\n",
      "[[1 2 3]\n",
      " [4 5 6]\n",
      " [7 8 9]]\n"
     ]
    }
   ],
   "source": [
    "macierz_1 = np.array([range(i, i + 3) for i in [1, 4, 7]])\n",
    "macierz_2 = macierz_1.copy()\n",
    "\n",
    "macierz_1[0,0] = -1\n",
    "\n",
    "print(macierz_1)\n",
    "print(macierz_2)"
   ]
  },
  {
   "cell_type": "markdown",
   "metadata": {
    "collapsed": true,
    "slideshow": {
     "slide_type": "subslide"
    }
   },
   "source": [
    "##### Zmiana wymiaru macierzy\n",
    "##### `reshape()`"
   ]
  },
  {
   "cell_type": "code",
   "execution_count": 34,
   "metadata": {
    "slideshow": {
     "slide_type": "fragment"
    }
   },
   "outputs": [
    {
     "name": "stdout",
     "output_type": "stream",
     "text": [
      "[[1 2 3]\n",
      " [4 5 6]\n",
      " [7 8 9]]\n"
     ]
    }
   ],
   "source": [
    "import numpy as np\n",
    "\n",
    "macierz = np.arange(1, 10).reshape(3, 3)\n",
    "\n",
    "print(macierz)"
   ]
  },
  {
   "cell_type": "code",
   "execution_count": 35,
   "metadata": {},
   "outputs": [
    {
     "name": "stdout",
     "output_type": "stream",
     "text": [
      "[1 2 3 4 5 6 7 8 9]\n"
     ]
    }
   ],
   "source": [
    "macierz = np.arange(1, 10)\n",
    "print(macierz)"
   ]
  },
  {
   "cell_type": "code",
   "execution_count": 36,
   "metadata": {
    "slideshow": {
     "slide_type": "fragment"
    }
   },
   "outputs": [
    {
     "name": "stdout",
     "output_type": "stream",
     "text": [
      "[[1]\n",
      " [2]\n",
      " [3]\n",
      " [4]\n",
      " [5]\n",
      " [6]\n",
      " [7]\n",
      " [8]\n",
      " [9]]\n"
     ]
    }
   ],
   "source": [
    "macierz = np.arange(1, 10).reshape((9, 1))\n",
    "\n",
    "print(macierz)"
   ]
  },
  {
   "cell_type": "markdown",
   "metadata": {},
   "source": [
    "##### Maskowanie"
   ]
  },
  {
   "cell_type": "code",
   "execution_count": 14,
   "metadata": {},
   "outputs": [
    {
     "data": {
      "text/plain": [
       "array([[ 0,  1,  2,  3,  4,  5,  6,  7,  8,  9],\n",
       "       [10, 11, 12, 13, 14, 15, 16, 17, 18, 19],\n",
       "       [20, 21, 22, 23, 24, 25, 26, 27, 28, 29],\n",
       "       [30, 31, 32, 33, 34, 35, 36, 37, 38, 39],\n",
       "       [40, 41, 42, 43, 44, 45, 46, 47, 48, 49],\n",
       "       [50, 51, 52, 53, 54, 55, 56, 57, 58, 59],\n",
       "       [60, 61, 62, 63, 64, 65, 66, 67, 68, 69],\n",
       "       [70, 71, 72, 73, 74, 75, 76, 77, 78, 79],\n",
       "       [80, 81, 82, 83, 84, 85, 86, 87, 88, 89],\n",
       "       [90, 91, 92, 93, 94, 95, 96, 97, 98, 99]])"
      ]
     },
     "execution_count": 14,
     "metadata": {},
     "output_type": "execute_result"
    }
   ],
   "source": [
    "macierz = np.arange(100).reshape(10,10)\n",
    "macierz"
   ]
  },
  {
   "cell_type": "code",
   "execution_count": 15,
   "metadata": {},
   "outputs": [
    {
     "data": {
      "text/plain": [
       "array([31, 32, 33, 34, 35, 36, 37, 38, 39, 40, 41, 42, 43, 44, 45, 46, 47,\n",
       "       48, 49, 50])"
      ]
     },
     "execution_count": 15,
     "metadata": {},
     "output_type": "execute_result"
    }
   ],
   "source": [
    "m = (macierz > 30) & (macierz < 51)\n",
    "macierz[m]"
   ]
  },
  {
   "cell_type": "markdown",
   "metadata": {
    "slideshow": {
     "slide_type": "subslide"
    }
   },
   "source": [
    "##### Łączenie macierzy\n",
    "\n",
    "##### `concatenate()`"
   ]
  },
  {
   "cell_type": "code",
   "execution_count": 39,
   "metadata": {
    "slideshow": {
     "slide_type": "fragment"
    }
   },
   "outputs": [
    {
     "name": "stdout",
     "output_type": "stream",
     "text": [
      "[1 2 3 4 5 6]\n"
     ]
    }
   ],
   "source": [
    "macierz_1 = np.array([1, 2, 3])\n",
    "macierz_2 = np.array([4, 5, 6])\n",
    "\n",
    "macierz_3 = np.concatenate([macierz_1, macierz_2])\n",
    "print(macierz_3)"
   ]
  },
  {
   "cell_type": "markdown",
   "metadata": {
    "slideshow": {
     "slide_type": "subslide"
    }
   },
   "source": [
    "##### Dzielenie macierzy\n",
    "\n",
    "##### `split()`"
   ]
  },
  {
   "cell_type": "code",
   "execution_count": 40,
   "metadata": {
    "slideshow": {
     "slide_type": "fragment"
    }
   },
   "outputs": [
    {
     "name": "stdout",
     "output_type": "stream",
     "text": [
      "[0 1]\n",
      "[2 3 4 5]\n",
      "[6 7 8]\n"
     ]
    }
   ],
   "source": [
    "macierz = np.arange(9)\n",
    "macierz_1, macierz_2, macierz_3 = np.split(macierz, [2, 6])\n",
    "print(macierz_1)\n",
    "print(macierz_2)\n",
    "print(macierz_3)"
   ]
  },
  {
   "cell_type": "markdown",
   "metadata": {
    "slideshow": {
     "slide_type": "subslide"
    }
   },
   "source": [
    "### Wybrane operacje na macierzach"
   ]
  },
  {
   "cell_type": "markdown",
   "metadata": {
    "slideshow": {
     "slide_type": "subslide"
    }
   },
   "source": [
    "##### Macierze i  skalary"
   ]
  },
  {
   "cell_type": "code",
   "execution_count": 41,
   "metadata": {
    "slideshow": {
     "slide_type": "fragment"
    }
   },
   "outputs": [
    {
     "name": "stdout",
     "output_type": "stream",
     "text": [
      "macierz     = [[0 1]\n",
      " [2 3]]\n",
      "macierz + 2 = [[2 3]\n",
      " [4 5]]\n",
      "macierz - 2 = [[-2 -1]\n",
      " [ 0  1]]\n",
      "macierz * 2 = [[0 2]\n",
      " [4 6]]\n",
      "macierz / 2 = [[0.  0.5]\n",
      " [1.  1.5]]\n",
      "macierz ** 2 = [[0 1]\n",
      " [4 9]]\n",
      "macierz % 2 = [[0 1]\n",
      " [0 1]]\n",
      "macierz // 2 = [[0 0]\n",
      " [1 1]]\n"
     ]
    }
   ],
   "source": [
    "macierz = np.arange(4).reshape((2,2))\n",
    "\n",
    "print(\"macierz     =\", macierz)\n",
    "print(\"macierz + 2 =\", macierz + 2)\n",
    "print(\"macierz - 2 =\", macierz - 2)\n",
    "print(\"macierz * 2 =\", macierz * 2)\n",
    "print(\"macierz / 2 =\", macierz / 2)\n",
    "print(\"macierz ** 2 =\", macierz ** 2)\n",
    "print(\"macierz % 2 =\", macierz % 2)\n",
    "print(\"macierz // 2 =\", macierz // 2)"
   ]
  },
  {
   "cell_type": "code",
   "execution_count": 42,
   "metadata": {
    "slideshow": {
     "slide_type": "subslide"
    }
   },
   "outputs": [
    {
     "name": "stdout",
     "output_type": "stream",
     "text": [
      "[[0 1]\n",
      " [2 3]]\n",
      "[[ -1  -1]\n",
      " [ -9 -25]]\n"
     ]
    }
   ],
   "source": [
    "macierz_1 = -(2 * macierz - 1) ** 2\n",
    "\n",
    "print(macierz)\n",
    "print(macierz_1)"
   ]
  },
  {
   "cell_type": "markdown",
   "metadata": {
    "slideshow": {
     "slide_type": "subslide"
    }
   },
   "source": [
    "`macierz = np.array([1, 2])`\n",
    "\n",
    "Operator|Metoda|Przykład\n",
    ":---:|:---:|:---:\n",
    "`+`|\t`add()`|\t`np.add(macierz, 2) = [3 4]`\n",
    "`-`|\t`subtract()`|\t`np.subtract(macierz, 2) = [-1  0]`\n",
    "`-`|\t`negative()`|\t`np.negative(macierz) = [-1 -2]`\n",
    "`*`|\t`multiply()`|\t`np.multiply(macierz, 2) = [2 4]`\n",
    "`/`|\t`divide()`|\t`np.divide(macierz, 2) = [0.5 1. ]`\n",
    "`//`|\t`floor_divide()`|\t`np.floor_divide(macierz, 2) = [0 1]`\n",
    "`**`|\t`power()`|\t`np.power(macierz, 2) = [1 4]`\n",
    "`%`|\t`mod()`|\t`np.mod(macierz, 2) = [1 0]`"
   ]
  },
  {
   "cell_type": "markdown",
   "metadata": {
    "slideshow": {
     "slide_type": "subslide"
    }
   },
   "source": [
    "##### `abs()`"
   ]
  },
  {
   "cell_type": "code",
   "execution_count": 43,
   "metadata": {
    "slideshow": {
     "slide_type": "fragment"
    }
   },
   "outputs": [
    {
     "name": "stdout",
     "output_type": "stream",
     "text": [
      "[1 2]\n"
     ]
    }
   ],
   "source": [
    "macierz = np.array([-1, 2])\n",
    "\n",
    "print(np.abs(macierz))"
   ]
  },
  {
   "cell_type": "code",
   "execution_count": 44,
   "metadata": {
    "slideshow": {
     "slide_type": "fragment"
    }
   },
   "outputs": [
    {
     "name": "stdout",
     "output_type": "stream",
     "text": [
      "[1.41421356 1.41421356]\n"
     ]
    }
   ],
   "source": [
    "macierz = np.array([-1 + 1j, 1 - 1J])\n",
    "\n",
    "print(np.abs(macierz))"
   ]
  },
  {
   "cell_type": "markdown",
   "metadata": {
    "slideshow": {
     "slide_type": "subslide"
    }
   },
   "source": [
    "##### Macierze z macierzami"
   ]
  },
  {
   "cell_type": "markdown",
   "metadata": {},
   "source": [
    "##### `array_equal()`"
   ]
  },
  {
   "cell_type": "code",
   "execution_count": 16,
   "metadata": {},
   "outputs": [
    {
     "data": {
      "text/plain": [
       "True"
      ]
     },
     "execution_count": 16,
     "metadata": {},
     "output_type": "execute_result"
    }
   ],
   "source": [
    "macierz_1 = np.eye(2)\n",
    "macierz_2 = [[1,0], [0,1]]\n",
    "np.array_equal(macierz_1,macierz_2)"
   ]
  },
  {
   "cell_type": "code",
   "execution_count": 46,
   "metadata": {
    "slideshow": {
     "slide_type": "fragment"
    }
   },
   "outputs": [
    {
     "name": "stdout",
     "output_type": "stream",
     "text": [
      "macierz_1=\n",
      " [[0 1]\n",
      " [2 3]] \n",
      "macierz_2=\n",
      " [[1. 0.]\n",
      " [0. 1.]] \n",
      "macierz_1 + macierz_2=\n",
      " [[1. 1.]\n",
      " [2. 4.]]\n"
     ]
    }
   ],
   "source": [
    "macierz_1 = np.arange(4).reshape((2,2))\n",
    "macierz_2 = np.eye(2)\n",
    "\n",
    "print(\"macierz_1=\\n\", macierz_1, '\\nmacierz_2=\\n', macierz_2, '\\nmacierz_1 + macierz_2=\\n', macierz_1 + macierz_2 )"
   ]
  },
  {
   "cell_type": "markdown",
   "metadata": {
    "slideshow": {
     "slide_type": "subslide"
    }
   },
   "source": [
    "##### `dot()`"
   ]
  },
  {
   "cell_type": "code",
   "execution_count": 47,
   "metadata": {
    "scrolled": false,
    "slideshow": {
     "slide_type": "fragment"
    }
   },
   "outputs": [
    {
     "name": "stdout",
     "output_type": "stream",
     "text": [
      "macierz_1=\n",
      " [[0 1]\n",
      " [2 3]] \n",
      "macierz_2=\n",
      " [[1. 0.]\n",
      " [0. 1.]] \n",
      "macierz_1 * macierz_2=\n",
      " [[0. 1.]\n",
      " [2. 3.]]\n"
     ]
    }
   ],
   "source": [
    "macierz_1 = np.arange(4).reshape((2,2))\n",
    "macierz_2 = np.eye(2)\n",
    "\n",
    "print(\"macierz_1=\\n\", macierz_1, '\\nmacierz_2=\\n', \n",
    "      macierz_2, '\\nmacierz_1 * macierz_2=\\n', np.dot(macierz_1, macierz_2) )"
   ]
  },
  {
   "cell_type": "code",
   "execution_count": 48,
   "metadata": {},
   "outputs": [
    {
     "name": "stdout",
     "output_type": "stream",
     "text": [
      "macierz_1=\n",
      " [[0 1]\n",
      " [2 3]] \n",
      "macierz_2=\n",
      " [[1. 0.]\n",
      " [0. 1.]] \n",
      "macierz_1 * macierz_2=\n",
      " [[0. 1.]\n",
      " [2. 3.]]\n"
     ]
    }
   ],
   "source": [
    "macierz_1 = np.arange(4).reshape((2,2))\n",
    "macierz_2 = np.eye(2)\n",
    "\n",
    "print(\"macierz_1=\\n\", macierz_1, '\\nmacierz_2=\\n', \n",
    "      macierz_2, '\\nmacierz_1 * macierz_2=\\n', macierz_1@macierz_2 )"
   ]
  },
  {
   "cell_type": "markdown",
   "metadata": {
    "slideshow": {
     "slide_type": "subslide"
    }
   },
   "source": [
    "##### trace()"
   ]
  },
  {
   "cell_type": "code",
   "execution_count": 49,
   "metadata": {
    "slideshow": {
     "slide_type": "fragment"
    }
   },
   "outputs": [
    {
     "name": "stdout",
     "output_type": "stream",
     "text": [
      "[[0 1]\n",
      " [2 3]]\n",
      "3\n"
     ]
    }
   ],
   "source": [
    "macierz = np.arange(4).reshape((2,2))\n",
    "\n",
    "print(macierz)\n",
    "print(np.trace(macierz))"
   ]
  },
  {
   "cell_type": "markdown",
   "metadata": {
    "collapsed": true,
    "slideshow": {
     "slide_type": "slide"
    }
   },
   "source": [
    "##### Moduł `numpy.linalg()`\n",
    "\n",
    "[https://docs.scipy.org/doc/numpy/reference/routines.linalg.html](https://docs.scipy.org/doc/numpy/reference/routines.linalg.html)"
   ]
  },
  {
   "cell_type": "markdown",
   "metadata": {
    "slideshow": {
     "slide_type": "subslide"
    }
   },
   "source": [
    "##### Wybrane metody"
   ]
  },
  {
   "cell_type": "markdown",
   "metadata": {
    "slideshow": {
     "slide_type": "fragment"
    }
   },
   "source": [
    "##### matrix_power()"
   ]
  },
  {
   "cell_type": "code",
   "execution_count": 50,
   "metadata": {
    "slideshow": {
     "slide_type": "fragment"
    }
   },
   "outputs": [
    {
     "name": "stdout",
     "output_type": "stream",
     "text": [
      "[[ 2  3]\n",
      " [ 6 11]]\n",
      "[[ 2  3]\n",
      " [ 6 11]]\n"
     ]
    }
   ],
   "source": [
    "import numpy.linalg as lg\n",
    "\n",
    "macierz = np.arange(4).reshape((2,2))\n",
    "\n",
    "macierz_kw = lg.matrix_power(macierz, 2)\n",
    "\n",
    "print(macierz_kw)\n",
    "print(np.dot(macierz, macierz))"
   ]
  },
  {
   "cell_type": "markdown",
   "metadata": {
    "slideshow": {
     "slide_type": "subslide"
    }
   },
   "source": [
    "##### eig()"
   ]
  },
  {
   "cell_type": "code",
   "execution_count": 51,
   "metadata": {
    "slideshow": {
     "slide_type": "fragment"
    }
   },
   "outputs": [
    {
     "name": "stdout",
     "output_type": "stream",
     "text": [
      "(array([1., 2.]), array([[1., 0.],\n",
      "       [0., 1.]]))\n"
     ]
    }
   ],
   "source": [
    "macierz = [[1,0], [0,2]]\n",
    "\n",
    "wartości_własne = lg.eig(macierz)\n",
    "\n",
    "print(wartości_własne)"
   ]
  },
  {
   "cell_type": "markdown",
   "metadata": {
    "slideshow": {
     "slide_type": "subslide"
    }
   },
   "source": [
    "##### det()"
   ]
  },
  {
   "cell_type": "code",
   "execution_count": 52,
   "metadata": {
    "slideshow": {
     "slide_type": "fragment"
    }
   },
   "outputs": [
    {
     "name": "stdout",
     "output_type": "stream",
     "text": [
      "[[1, 0], [0, 2]]\n",
      "2.0\n"
     ]
    }
   ],
   "source": [
    "macierz = [[1,0], [0,2]]\n",
    "print(macierz)\n",
    "wyznacznik = lg.det(macierz)\n",
    "\n",
    "print(wyznacznik)"
   ]
  },
  {
   "cell_type": "markdown",
   "metadata": {
    "slideshow": {
     "slide_type": "subslide"
    }
   },
   "source": [
    "##### matrix_rank()"
   ]
  },
  {
   "cell_type": "code",
   "execution_count": 53,
   "metadata": {
    "slideshow": {
     "slide_type": "fragment"
    }
   },
   "outputs": [
    {
     "name": "stdout",
     "output_type": "stream",
     "text": [
      "2\n",
      "1\n"
     ]
    }
   ],
   "source": [
    "macierz_1 = [[1,0], [0,2]]\n",
    "macierz_2 = [[1,0], [1,0]]\n",
    "\n",
    "print(lg.matrix_rank(macierz_1))\n",
    "print(lg.matrix_rank(macierz_2))"
   ]
  },
  {
   "cell_type": "markdown",
   "metadata": {
    "slideshow": {
     "slide_type": "subslide"
    }
   },
   "source": [
    "##### inv()"
   ]
  },
  {
   "cell_type": "code",
   "execution_count": 54,
   "metadata": {
    "slideshow": {
     "slide_type": "fragment"
    }
   },
   "outputs": [
    {
     "name": "stdout",
     "output_type": "stream",
     "text": [
      "[[-1.5  0.5]\n",
      " [ 1.   0. ]]\n",
      "[[1. 0.]\n",
      " [0. 1.]]\n"
     ]
    }
   ],
   "source": [
    "macierz = np.arange(4).reshape((2,2))\n",
    "\n",
    "odwrotna = lg.inv(macierz)\n",
    "\n",
    "print(odwrotna)\n",
    "print(np.dot(macierz, odwrotna))"
   ]
  },
  {
   "cell_type": "markdown",
   "metadata": {
    "slideshow": {
     "slide_type": "subslide"
    }
   },
   "source": [
    "##### solve()"
   ]
  },
  {
   "cell_type": "code",
   "execution_count": 55,
   "metadata": {
    "slideshow": {
     "slide_type": "fragment"
    }
   },
   "outputs": [
    {
     "name": "stdout",
     "output_type": "stream",
     "text": [
      "[ 1. -1.]\n"
     ]
    }
   ],
   "source": [
    "A = [[1,2],[-1,1]]\n",
    "b = [-1, -2]\n",
    "\n",
    "rozwiązanie = lg.solve(A,b)\n",
    "\n",
    "print(rozwiązanie)"
   ]
  },
  {
   "cell_type": "markdown",
   "metadata": {
    "slideshow": {
     "slide_type": "slide"
    }
   },
   "source": [
    "##### Statystyka opisowa z `numpy`\n",
    "\n",
    "[https://docs.scipy.org/doc/numpy-1.15.1/reference/routines.statistics.html](https://docs.scipy.org/doc/numpy-1.15.1/reference/routines.statistics.html)"
   ]
  },
  {
   "cell_type": "markdown",
   "metadata": {
    "slideshow": {
     "slide_type": "subslide"
    }
   },
   "source": [
    "##### mean()"
   ]
  },
  {
   "cell_type": "code",
   "execution_count": 56,
   "metadata": {
    "slideshow": {
     "slide_type": "fragment"
    }
   },
   "outputs": [
    {
     "name": "stdout",
     "output_type": "stream",
     "text": [
      "[0, 1, 2, 3]\n",
      "1.5\n"
     ]
    }
   ],
   "source": [
    "A = list(range(4))\n",
    "\n",
    "print(A)\n",
    "\n",
    "średnia = np.mean(A)\n",
    "print(średnia)"
   ]
  },
  {
   "cell_type": "code",
   "execution_count": 57,
   "metadata": {
    "slideshow": {
     "slide_type": "fragment"
    }
   },
   "outputs": [
    {
     "name": "stdout",
     "output_type": "stream",
     "text": [
      "[[0 1]\n",
      " [2 3]]\n",
      "1.5\n"
     ]
    }
   ],
   "source": [
    "A = np.arange(4).reshape((2,2))\n",
    "\n",
    "print(A)\n",
    "\n",
    "średnia = np.mean(A)\n",
    "print(średnia)"
   ]
  },
  {
   "cell_type": "code",
   "execution_count": 58,
   "metadata": {
    "slideshow": {
     "slide_type": "fragment"
    }
   },
   "outputs": [
    {
     "name": "stdout",
     "output_type": "stream",
     "text": [
      "[1. 2.]\n"
     ]
    }
   ],
   "source": [
    "średnia_1 = np.mean(A, axis=0)\n",
    "print(średnia_1)"
   ]
  },
  {
   "cell_type": "code",
   "execution_count": 59,
   "metadata": {
    "slideshow": {
     "slide_type": "fragment"
    }
   },
   "outputs": [
    {
     "name": "stdout",
     "output_type": "stream",
     "text": [
      "[0.5 2.5]\n"
     ]
    }
   ],
   "source": [
    "średnia_2 = np.mean(A, axis=1)\n",
    "print(średnia_2)"
   ]
  },
  {
   "cell_type": "markdown",
   "metadata": {
    "slideshow": {
     "slide_type": "subslide"
    }
   },
   "source": [
    "##### std()"
   ]
  },
  {
   "cell_type": "code",
   "execution_count": 60,
   "metadata": {
    "slideshow": {
     "slide_type": "fragment"
    }
   },
   "outputs": [
    {
     "name": "stdout",
     "output_type": "stream",
     "text": [
      "[0, 1, 2, 3]\n",
      "1.118033988749895\n"
     ]
    }
   ],
   "source": [
    "A = list(range(4))\n",
    "\n",
    "print(A)\n",
    "\n",
    "std = np.std(A)\n",
    "print(std)"
   ]
  },
  {
   "cell_type": "code",
   "execution_count": 61,
   "metadata": {
    "slideshow": {
     "slide_type": "fragment"
    }
   },
   "outputs": [
    {
     "name": "stdout",
     "output_type": "stream",
     "text": [
      "[[0 1]\n",
      " [2 3]]\n",
      "1.118033988749895\n"
     ]
    }
   ],
   "source": [
    "A = np.arange(4).reshape((2,2))\n",
    "\n",
    "print(A)\n",
    "\n",
    "std = np.std(A)\n",
    "print(std)"
   ]
  },
  {
   "cell_type": "code",
   "execution_count": 62,
   "metadata": {
    "slideshow": {
     "slide_type": "fragment"
    }
   },
   "outputs": [
    {
     "name": "stdout",
     "output_type": "stream",
     "text": [
      "[1. 1.]\n"
     ]
    }
   ],
   "source": [
    "std_1 = np.std(A, axis=0)\n",
    "print(std_1)"
   ]
  },
  {
   "cell_type": "code",
   "execution_count": 63,
   "metadata": {
    "slideshow": {
     "slide_type": "fragment"
    }
   },
   "outputs": [
    {
     "name": "stdout",
     "output_type": "stream",
     "text": [
      "[0.5 0.5]\n"
     ]
    }
   ],
   "source": [
    "std_2 = np.std(A, axis=1)\n",
    "print(std_2)"
   ]
  },
  {
   "cell_type": "markdown",
   "metadata": {
    "slideshow": {
     "slide_type": "subslide"
    }
   },
   "source": [
    "##### var()"
   ]
  },
  {
   "cell_type": "code",
   "execution_count": 64,
   "metadata": {
    "slideshow": {
     "slide_type": "fragment"
    }
   },
   "outputs": [
    {
     "name": "stdout",
     "output_type": "stream",
     "text": [
      "[0, 1, 2, 3]\n",
      "1.25\n"
     ]
    }
   ],
   "source": [
    "A = list(range(4))\n",
    "\n",
    "print(A)\n",
    "\n",
    "wariancja = np.var(A)\n",
    "print(wariancja)"
   ]
  },
  {
   "cell_type": "code",
   "execution_count": 65,
   "metadata": {
    "slideshow": {
     "slide_type": "fragment"
    }
   },
   "outputs": [
    {
     "name": "stdout",
     "output_type": "stream",
     "text": [
      "[[0 1]\n",
      " [2 3]]\n",
      "1.25\n"
     ]
    }
   ],
   "source": [
    "A = np.arange(4).reshape((2,2))\n",
    "\n",
    "print(A)\n",
    "\n",
    "wariancja = np.var(A)\n",
    "print(wariancja)"
   ]
  },
  {
   "cell_type": "code",
   "execution_count": 66,
   "metadata": {
    "slideshow": {
     "slide_type": "fragment"
    }
   },
   "outputs": [
    {
     "name": "stdout",
     "output_type": "stream",
     "text": [
      "[1. 1.]\n"
     ]
    }
   ],
   "source": [
    "wariancja_1 = np.var(A, axis=0)\n",
    "print(wariancja_1)"
   ]
  },
  {
   "cell_type": "code",
   "execution_count": 67,
   "metadata": {
    "slideshow": {
     "slide_type": "fragment"
    }
   },
   "outputs": [
    {
     "name": "stdout",
     "output_type": "stream",
     "text": [
      "[0.25 0.25]\n"
     ]
    }
   ],
   "source": [
    "wariancja_2 = np.var(A, axis=1)\n",
    "print(wariancja_2)"
   ]
  },
  {
   "cell_type": "markdown",
   "metadata": {
    "slideshow": {
     "slide_type": "subslide"
    }
   },
   "source": [
    "##### median()"
   ]
  },
  {
   "cell_type": "code",
   "execution_count": 68,
   "metadata": {
    "slideshow": {
     "slide_type": "fragment"
    }
   },
   "outputs": [
    {
     "name": "stdout",
     "output_type": "stream",
     "text": [
      "[0, 1, 2, 3, 4]\n",
      "2.0\n"
     ]
    }
   ],
   "source": [
    "A = list(range(5))\n",
    "\n",
    "print(A)\n",
    "\n",
    "mediana = np.median(A)\n",
    "print(mediana)"
   ]
  },
  {
   "cell_type": "code",
   "execution_count": 69,
   "metadata": {
    "slideshow": {
     "slide_type": "fragment"
    }
   },
   "outputs": [
    {
     "name": "stdout",
     "output_type": "stream",
     "text": [
      "[[0 1]\n",
      " [2 3]]\n",
      "1.5\n"
     ]
    }
   ],
   "source": [
    "A = np.arange(4).reshape((2,2))\n",
    "\n",
    "print(A)\n",
    "\n",
    "mediana = np.median(A)\n",
    "print(mediana)"
   ]
  },
  {
   "cell_type": "code",
   "execution_count": 70,
   "metadata": {
    "slideshow": {
     "slide_type": "fragment"
    }
   },
   "outputs": [
    {
     "name": "stdout",
     "output_type": "stream",
     "text": [
      "[1. 2.]\n"
     ]
    }
   ],
   "source": [
    "mediana_1 = np.median(A, axis=0)\n",
    "print(mediana_1)"
   ]
  },
  {
   "cell_type": "code",
   "execution_count": 71,
   "metadata": {
    "slideshow": {
     "slide_type": "fragment"
    }
   },
   "outputs": [
    {
     "name": "stdout",
     "output_type": "stream",
     "text": [
      "[0.5 2.5]\n"
     ]
    }
   ],
   "source": [
    "mediana_2 = np.median(A, axis=1)\n",
    "print(mediana_2)"
   ]
  },
  {
   "cell_type": "markdown",
   "metadata": {},
   "source": [
    "##### Macierz losowa"
   ]
  },
  {
   "cell_type": "code",
   "execution_count": 24,
   "metadata": {},
   "outputs": [
    {
     "data": {
      "text/plain": [
       "array([[ 8,  1],\n",
       "       [-9, -1]])"
      ]
     },
     "execution_count": 24,
     "metadata": {},
     "output_type": "execute_result"
    }
   ],
   "source": [
    "macierz = np.random.randint(-10,10, (2, 2))\n",
    "macierz"
   ]
  },
  {
   "cell_type": "markdown",
   "metadata": {
    "slideshow": {
     "slide_type": "slide"
    }
   },
   "source": [
    "### Dziękuję za uwagę :)"
   ]
  }
 ],
 "metadata": {
  "kernelspec": {
   "display_name": "Python 3 (ipykernel)",
   "language": "python",
   "name": "python3"
  },
  "language_info": {
   "codemirror_mode": {
    "name": "ipython",
    "version": 3
   },
   "file_extension": ".py",
   "mimetype": "text/x-python",
   "name": "python",
   "nbconvert_exporter": "python",
   "pygments_lexer": "ipython3",
   "version": "3.9.7"
  }
 },
 "nbformat": 4,
 "nbformat_minor": 2
}
