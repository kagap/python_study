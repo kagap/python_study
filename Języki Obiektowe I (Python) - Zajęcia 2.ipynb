{
 "cells": [
  {
   "cell_type": "markdown",
   "metadata": {},
   "source": [
    "Przedmiotem dzisiejszych zajęć jest zapoznanie się z podstawami programowania obiektowego w Języku Python oraz rozwiązanie\n",
    "zadań. KM"
   ]
  },
  {
   "cell_type": "markdown",
   "metadata": {},
   "source": [
    "Zadanie 1\n",
    "1. Napisz klasę Talia, która będzie zawierać inną klasę - klasę Karta, która spałnia następujące wymagania:\n",
    "• rodzaj (Kier, Karo, Trefl, Pik)\n",
    "• wartość (A,2,3,4,5,6,7,8,9,10,J,Q,K)\n",
    "2. Dodaj metody:\n",
    "• rozdaj, aby pobrać pojedynczą kartę z talii - karta po rozdaniu usuwana jest z talii\n",
    "• przetasuj, która zapewnia że Talia składa się z 52 kart i ustawia je w sposób losowy"
   ]
  },
  {
   "cell_type": "code",
   "execution_count": 15,
   "metadata": {},
   "outputs": [
    {
     "name": "stdout",
     "output_type": "stream",
     "text": [
      "Pik 5\n",
      "Trefl 4\n",
      "Karo Q\n",
      "Karo 4\n",
      "Karo 6\n",
      "Trefl 3\n",
      "Kier 10\n",
      "Karo 5\n",
      "Kier A\n",
      "Pik K\n",
      "Kier J\n",
      "Kier 4\n",
      "Trefl 8\n",
      "Karo 7\n",
      "Kier 6\n",
      "Pik 6\n",
      "Pik 10\n",
      "Trefl 2\n",
      "Kier 8\n",
      "Trefl J\n",
      "Karo 10\n",
      "Karo 8\n",
      "Pik 3\n",
      "Karo J\n",
      "Karo 3\n",
      "Trefl K\n",
      "Kier 5\n",
      "Karo 9\n",
      "Pik 7\n",
      "Pik A\n",
      "Karo 2\n",
      "Pik 4\n",
      "Kier K\n",
      "Kier 3\n",
      "Trefl 7\n",
      "Karo A\n",
      "Trefl 10\n",
      "Trefl 9\n",
      "Trefl 6\n",
      "Pik 2\n",
      "Pik Q\n",
      "Trefl 5\n",
      "Pik 9\n",
      "Kier Q\n",
      "Kier 9\n",
      "Karo K\n",
      "Pik J\n",
      "Kier 2\n",
      "Trefl Q\n",
      "Kier 7\n",
      "Trefl A\n",
      "Pik 8\n"
     ]
    }
   ],
   "source": [
    "import random\n",
    "\n",
    "class Karta:\n",
    "    def __init__(self, rodzaj, wartosc):\n",
    "        self.rodzaj = rodzaj\n",
    "        self.wartosc = wartosc\n",
    "\n",
    "class Talia:\n",
    "    def __init__(self):\n",
    "        rodzaje = ['Kier', 'Karo', 'Trefl', 'Pik']\n",
    "        wartosci = ['A', '2', '3', '4', '5', '6', '7', '8', '9', '10', 'J', 'Q', 'K']\n",
    "        self.karty = [Karta(rodzaj, wartosc) for rodzaj in rodzaje for wartosc in wartosci]\n",
    "\n",
    "    def przetasuj(self):\n",
    "        random.shuffle(self.karty)\n",
    "\n",
    "    def rozdaj(self):\n",
    "        if len(self.karty) == 0:\n",
    "            raise Exception('Brak kart w talii.')\n",
    "        return self.karty.pop()\n",
    "'''talia = Talia()\n",
    "talia.przetasuj()\n",
    "\n",
    "while len(talia.karty) > 0:\n",
    "    karta = talia.rozdaj()\n",
    "    print( karta.rodzaj, karta.wartosc)\n",
    "'''\n"
   ]
  },
  {
   "cell_type": "markdown",
   "metadata": {},
   "source": [
    "Zadanie 2\n",
    "1. Napisz klasę Pojazd, która spełnia następujące wymagania:\n",
    "• zawiera pole predkosc max\n",
    "• zawiera pole mileage (ilośc kilometrów, do przejechania na jednym litrze)\n",
    "• wyświetla: (240, 18)\n",
    "2. Napisz klasę pochodną Bus, która:\n",
    "• zawiera pole nazwa\n",
    "• zawiera pole predkosc max\n",
    "• zawiera pole mileage (ilośc kilometrów, do przejechania na jednym litrze)\n",
    "• wyświetla: (”School Volvo”, 180, 12)\n",
    "3. Rozszerz Klasę Bus tak, aby:\n",
    "• rozszerzyło argumenty o pojemnosc calkowita z wartością domyślną 50\n",
    "• przeciąż niektóre, potrzebne metody\n",
    "• przetestuj\n"
   ]
  },
  {
   "cell_type": "code",
   "execution_count": 41,
   "metadata": {},
   "outputs": [],
   "source": [
    "class Pojazd:\n",
    "    def __init__(self, predkosc_max, mileage):\n",
    "        self.predkosc_max = predkosc_max\n",
    "        self.mileage = mileage\n",
    "\n",
    "    def wyswietl(self):\n",
    "        print(self.predkosc_max, self.mileage)\n",
    "class Bus(Pojazd):\n",
    "    def __init__(self, nazwa, predkosc_max, mileage, pojemnosc_calkowita=50):\n",
    "        super().__init__(predkosc_max, mileage)\n",
    "        self.nazwa = nazwa\n",
    "        self.pojemnosc_calkowita = pojemnosc_calkowita\n",
    "\n",
    "    def wyswietl(self):\n",
    "        print(self.nazwa, self.predkosc_max, self.mileage,self.pojemnosc_calkowita)"
   ]
  },
  {
   "cell_type": "code",
   "execution_count": 42,
   "metadata": {},
   "outputs": [
    {
     "name": "stdout",
     "output_type": "stream",
     "text": [
      "240 18\n",
      "School Volvo 180 12 50\n"
     ]
    }
   ],
   "source": [
    "pojazd = Pojazd(240,18)\n",
    "pojazd.wyswietl() \n",
    "bus = Bus(\"School Volvo\", 180, 12)\n",
    "bus.wyswietl()\n",
    "\n"
   ]
  },
  {
   "cell_type": "markdown",
   "metadata": {},
   "source": [
    "4. Napisz klasę Samochod, która odziedziczy całość parametrów"
   ]
  },
  {
   "cell_type": "code",
   "execution_count": 34,
   "metadata": {},
   "outputs": [
    {
     "name": "stdout",
     "output_type": "stream",
     "text": [
      "test 240 18\n"
     ]
    }
   ],
   "source": [
    "class Samochod(Pojazd):\n",
    "    def __init__(self,nazwa, predkosc_max, mileage):\n",
    "        super().__init__(predkosc_max, mileage)\n",
    "        self.nazwa = nazwa\n",
    "    def wyswietl(self):\n",
    "        print(self.nazwa, self.predkosc_max, self.mileage)\n",
    "samochod1 = Samochod('test',240,18)\n",
    "samochod1.wyswietl()"
   ]
  },
  {
   "cell_type": "markdown",
   "metadata": {},
   "source": [
    "5. W klasie Pojazd dodaj atrybut klasowykolor o wartości domyślnej biały, który ma być odziedziczony przez klasy Bus i\n",
    "Samochod\n",
    "• dopisz (”Audi Q5”, 240. 18) oraz (”School Volvo”, 180, 12)\n"
   ]
  },
  {
   "cell_type": "code",
   "execution_count": 50,
   "metadata": {},
   "outputs": [
    {
     "name": "stdout",
     "output_type": "stream",
     "text": [
      "Audi Q5 240 18 biały\n",
      "School Volvo 180 12 biały\n"
     ]
    }
   ],
   "source": [
    "class Pojazd:\n",
    "    kolor = 'biały'\n",
    "\n",
    "    def __init__(self, predkosc_max, mileage):\n",
    "        self.predkosc_max = predkosc_max\n",
    "        self.mileage = mileage\n",
    "\n",
    "    def wyswietl(self):\n",
    "        print(self.predkosc_max, self.mileage, self.kolor)\n",
    "\n",
    "class Bus(Pojazd):\n",
    "    def __init__(self, nazwa, predkosc_max, mileage, pojemnosc_calkowita=50):\n",
    "        super().__init__(predkosc_max, mileage)\n",
    "        self.nazwa = nazwa\n",
    "        self.pojemnosc_calkowita = pojemnosc_calkowita\n",
    "    def wyswietl(self):\n",
    "        print(self.nazwa,self.predkosc_max, self.mileage, self.kolor)\n",
    "\n",
    "class Samochod(Pojazd):\n",
    "    def __init__(self,nazwa, predkosc_max, mileage):\n",
    "        super().__init__(predkosc_max, mileage)\n",
    "        self.nazwa = nazwa\n",
    "    def wyswietl(self):\n",
    "        print(self.nazwa,self.predkosc_max, self.mileage, self.kolor)\n",
    "\n",
    "# Przykładowe użycie\n",
    "audi = Samochod('Audi Q5',240, 18 )\n",
    "audi.wyswietl()\n",
    "volvo = Bus('School Volvo', 180, 12)\n",
    "volvo.wyswietl()\n"
   ]
  },
  {
   "cell_type": "markdown",
   "metadata": {},
   "source": [
    "6. Rozszerz klasę Pojazd w następujący sposób:\n",
    "• dodaj atrybut Opłata, który obliczysz mnożąc liczbę miejsc o 100, a jeśli pojazd jest w klasie Bus, to dodajesz jeszcze\n",
    "10 procent opłaty\n"
   ]
  },
  {
   "cell_type": "code",
   "execution_count": 55,
   "metadata": {},
   "outputs": [
    {
     "name": "stdout",
     "output_type": "stream",
     "text": [
      "('School Volvo', 180, 12)\n",
      "3300.0\n",
      "(240, 18)\n",
      "500\n"
     ]
    }
   ],
   "source": [
    "class Pojazd:\n",
    "    kolor = 'biały'\n",
    "    \n",
    "    def __init__(self, predkosc_max, mileage, liczba_miejsc):\n",
    "        self.predkosc_max = predkosc_max\n",
    "        self.mileage = mileage\n",
    "        self.liczba_miejsc = liczba_miejsc\n",
    "        self.oplata = self.liczba_miejsc * 100\n",
    "    \n",
    "    def wyswietl(self):\n",
    "        print((self.predkosc_max, self.mileage))\n",
    "        \n",
    "        \n",
    "class Bus(Pojazd):\n",
    "    def __init__(self, nazwa, predkosc_max, mileage, liczba_miejsc, pojemnosc_calkowita=50):\n",
    "        super().__init__(predkosc_max, mileage, liczba_miejsc)\n",
    "        self.nazwa = nazwa\n",
    "        self.pojemnosc_calkowita = pojemnosc_calkowita\n",
    "        self.oplata += self.oplata * 0.1\n",
    "    \n",
    "    def wyswietl(self):\n",
    "        print((self.nazwa, self.predkosc_max, self.mileage))\n",
    "        \n",
    "        \n",
    "class Samochod(Pojazd):\n",
    "    def __init__(self, nazwa, predkosc_max, mileage, liczba_miejsc):\n",
    "        super().__init__(predkosc_max, mileage, liczba_miejsc)\n",
    "        self.nazwa = nazwa\n",
    "        \n",
    "        \n",
    "volvo = Bus('School Volvo', 180, 12, 30)\n",
    "volvo.wyswietl()\n",
    "print (volvo.oplata)\n",
    "audi = Samochod('Audi Q5', 240, 18, 5)\n",
    "audi.wyswietl()  \n",
    "print (audi.oplata)\n"
   ]
  },
  {
   "cell_type": "code",
   "execution_count": null,
   "metadata": {},
   "outputs": [],
   "source": []
  }
 ],
 "metadata": {
  "kernelspec": {
   "display_name": "Python 3",
   "language": "python",
   "name": "python3"
  },
  "language_info": {
   "codemirror_mode": {
    "name": "ipython",
    "version": 3
   },
   "file_extension": ".py",
   "mimetype": "text/x-python",
   "name": "python",
   "nbconvert_exporter": "python",
   "pygments_lexer": "ipython3",
   "version": "3.7.6"
  }
 },
 "nbformat": 4,
 "nbformat_minor": 4
}
