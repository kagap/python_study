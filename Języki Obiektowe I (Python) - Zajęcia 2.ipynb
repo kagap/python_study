{
 "cells": [
  {
   "cell_type": "markdown",
   "metadata": {},
   "source": [
    "Przedmiotem dzisiejszych zajęć jest zapoznanie się z podstawami programowania obiektowego w Języku Python oraz rozwiązanie\n",
    "zadań."
   ]
  },
  {
   "cell_type": "markdown",
   "metadata": {},
   "source": [
    "Zadanie 1\n",
    "1. Napisz klasę Talia, która będzie zawierać inną klasę - klasę Karta, która spałnia następujące wymagania:\n",
    "• rodzaj (Kier, Karo, Trefl, Pik)\n",
    "• wartość (A,2,3,4,5,6,7,8,9,10,J,Q,K)\n",
    "2. Dodaj metody:\n",
    "• rozdaj, aby pobrać pojedynczą kartę z talii - karta po rozdaniu usuwana jest z talii\n",
    "• przetasuj, która zapewnia że Talia składa się z 52 kart i ustawia je w sposób losowy"
   ]
  },
  {
   "cell_type": "code",
   "execution_count": null,
   "metadata": {},
   "outputs": [],
   "source": [
    "import random\n",
    "\n",
    "class Karta:\n",
    "    def __init__(self, rodzaj, wartość):\n",
    "        self.rodzaj = rodzaj\n",
    "        self.wartość = wartość\n",
    "\n",
    "class Talia:\n",
    "    def __init__(self):\n",
    "        rodzaje = ['Kier', 'Karo', 'Trefl', 'Pik']\n",
    "        wartosci = ['A', '2', '3', '4', '5', '6', '7', '8', '9', '10', 'J', 'Q', 'K']\n",
    "        self.karty = [Karta(rodzaj, wartosc) for rodzaj in rodzaje for wartosc in wartosci]\n",
    "\n",
    "    def przetasuj(self):\n",
    "        random.shuffle(self.karty)\n",
    "\n",
    "    def rozdaj(self):\n",
    "        if len(self.karty) == 0:\n",
    "            raise Exception('Brak kart w talii.')\n",
    "        return self.karty.pop()\n"
   ]
  },
  {
   "cell_type": "markdown",
   "metadata": {},
   "source": [
    "Zadanie 2\n",
    "1. Napisz klasę Pojazd, która spełnia następujące wymagania:\n",
    "• zawiera pole predkosc max\n",
    "• zawiera pole mileage (ilośc kilometrów, do przejechania na jednym litrze)\n",
    "• wyświetla: (240, 18)\n",
    "2. Napisz klasę pochodną Bus, która:\n",
    "• zawiera pole nazwa\n",
    "• zawiera pole predkosc max\n",
    "• zawiera pole mileage (ilośc kilometrów, do przejechania na jednym litrze)\n",
    "• wyświetla: (”School Volvo”, 180, 12)\n",
    "3. Rozszerz Klasę Bus tak, aby:\n",
    "• rozszerzyło argumenty o pojemnosc calkowita z wartością domyślną 50\n",
    "• przeciąż niektóre, potrzebne metody\n",
    "• przetestuj\n"
   ]
  },
  {
   "cell_type": "code",
   "execution_count": null,
   "metadata": {},
   "outputs": [],
   "source": [
    "class Pojazd:\n",
    "    def __init__(self, predkosc_max, mileage):\n",
    "        self.predkosc_max = predkosc_max\n",
    "        self.mileage = mileage\n",
    "\n",
    "    def wyswietl(self):\n",
    "        print(self.predkosc_max, self.mileage)\n",
    "class Bus(Pojazd):\n",
    "    def __init__(self, nazwa, predkosc_max, mileage, pojemnosc_calkowita=50):\n",
    "        super().__init__(predkosc_max, mileage)\n",
    "        self.nazwa = nazwa\n",
    "        self.pojemnosc_calkowita = pojemnosc_calkowita\n",
    "\n",
    "    def wyswietl(self):\n",
    "        print(self.nazwa, self.predkosc_max, self.mileage)"
   ]
  },
  {
   "cell_type": "markdown",
   "metadata": {},
   "source": [
    "4. Napisz klasę Samochod, która odziedziczy całość parametrów"
   ]
  },
  {
   "cell_type": "code",
   "execution_count": null,
   "metadata": {},
   "outputs": [],
   "source": [
    "class Samochod(Pojazd):\n",
    "    def __init__(self, predkosc_max, mileage, marka, model):\n",
    "        super().__init__(predkosc_max, mileage)\n",
    "        self.marka = marka\n",
    "        self.model = model"
   ]
  },
  {
   "cell_type": "markdown",
   "metadata": {},
   "source": [
    "5. W klasie Pojazd dodaj atrybut klasowykolor o wartości domyślnej biały, który ma być odziedziczony przez klasy Bus i\n",
    "Samochod\n",
    "• dopisz (”Audi Q5”, 240. 18) oraz (”School Volvo”, 180, 12)\n"
   ]
  },
  {
   "cell_type": "code",
   "execution_count": null,
   "metadata": {},
   "outputs": [],
   "source": [
    "class Pojazd:\n",
    "    kolor = 'biały'\n",
    "\n",
    "    def __init__(self, predkosc_max, mileage):\n",
    "        self.predkosc_max = predkosc_max\n",
    "        self.mileage = mileage\n",
    "\n",
    "    def wyswietl(self):\n",
    "        print(self.predkosc_max, self.mileage, self.kolor)\n",
    "\n",
    "class Bus(Pojazd):\n",
    "    def __init__(self, nazwa, predkosc_max, mileage, pojemnosc_calkowita=50):\n",
    "        super().__init__(predkosc_max, mileage)\n",
    "        self.nazwa = nazwa\n",
    "        self.pojemnosc_calkowita = pojemnosc_calkowita\n",
    "\n",
    "class Samochod(Pojazd):\n",
    "    def __init__(self, predkosc_max, mileage, marka, model):\n",
    "        super().__init__(predkosc_max, mileage)\n",
    "        self.marka = marka\n",
    "        self.model = model\n",
    "\n",
    "# Przykładowe użycie\n",
    "audi = Samochod(240, 18, 'Audi', 'Q5')\n",
    "print(audi.wyswietl()) # 240 18 biały\n",
    "\n",
    "volvo = Bus('School Volvo', 180, 12)\n",
    "print(volvo.wyswietl()) # 180 12 biały\n"
   ]
  },
  {
   "cell_type": "markdown",
   "metadata": {},
   "source": [
    "6. Rozszerz klasę Pojazd w następujący sposób:\n",
    "• dodaj atrybut Opłata, który obliczysz mnożąc liczbę miejsc o 100, a jeśli pojazd jest w klasie Bus, to dodajesz jeszcze\n",
    "10 procent opłaty\n"
   ]
  },
  {
   "cell_type": "code",
   "execution_count": null,
   "metadata": {},
   "outputs": [],
   "source": [
    "class Pojazd:\n",
    "    kolor = 'biały'\n",
    "\n",
    "    def __init__(self, predkosc_max, mileage):\n",
    "        self.predkosc_max = predkosc_max\n",
    "        self.mileage = mileage\n",
    "\n",
    "    def opłata(self, liczba_miejsc):\n",
    "        opłata = liczba_miejsc * 100\n",
    "        if isinstance(self, Bus):\n",
    "            opłata *= 1.1\n",
    "        return opłata\n",
    "\n",
    "    def __str__(self):\n",
    "        return f'({self.predkosc_max}, {self.mileage})'\n"
   ]
  }
 ],
 "metadata": {
  "kernelspec": {
   "display_name": "Python 3",
   "language": "python",
   "name": "python3"
  },
  "language_info": {
   "codemirror_mode": {
    "name": "ipython",
    "version": 3
   },
   "file_extension": ".py",
   "mimetype": "text/x-python",
   "name": "python",
   "nbconvert_exporter": "python",
   "pygments_lexer": "ipython3",
   "version": "3.7.6"
  }
 },
 "nbformat": 4,
 "nbformat_minor": 4
}
