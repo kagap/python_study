{
 "cells": [
  {
   "cell_type": "markdown",
   "metadata": {
    "id": "Gsd4LXTrySBM"
   },
   "source": [
    "Zadania\n",
    "Przedmiotem dzisiejszych zajęć jest zapoznanie się z podstawami Języka Python oraz rozwiązanie zadań.\n",
    "Napisz funkcję, która:\n"
   ]
  },
  {
   "cell_type": "markdown",
   "metadata": {
    "id": "nC04xON8yiq7"
   },
   "source": [
    "1. dla pobranych z klawiatury dwóch liczb zwróci ich iloczyn."
   ]
  },
  {
   "cell_type": "code",
   "execution_count": 1,
   "metadata": {
    "id": "AyQosNH-yU-6"
   },
   "outputs": [
    {
     "name": "stdout",
     "output_type": "stream",
     "text": [
      "Podaj pierwszą liczbę: 4\n",
      "Podaj drugą liczbę: 3\n",
      "12.0\n"
     ]
    }
   ],
   "source": [
    "def iloczyn():\n",
    "    liczba1 = float(input(\"Podaj pierwszą liczbę: \"))\n",
    "    liczba2 = float(input(\"Podaj drugą liczbę: \"))\n",
    "    wynik = liczba1 * liczba2\n",
    "    return wynik\n",
    "print(iloczyn())"
   ]
  },
  {
   "cell_type": "markdown",
   "metadata": {
    "id": "7ASjBMPByVLC"
   },
   "source": [
    "2. sprawdzi, czy podana liczba jest parzysta.\n"
   ]
  },
  {
   "cell_type": "code",
   "execution_count": 3,
   "metadata": {
    "colab": {
     "base_uri": "https://localhost:8080/"
    },
    "id": "0-OnpAB7yVRq",
    "outputId": "24479721-e010-4fcc-f647-d8ec509f76b4"
   },
   "outputs": [
    {
     "name": "stdout",
     "output_type": "stream",
     "text": [
      "True\n"
     ]
    }
   ],
   "source": [
    "def czy_parzysta(liczba):\n",
    "    if liczba % 2 == 0:\n",
    "        return True\n",
    "    else:\n",
    "        return False\n",
    "print(czy_parzysta(6))"
   ]
  },
  {
   "cell_type": "markdown",
   "metadata": {
    "id": "4FK5_JX3yVWi"
   },
   "source": [
    "3. obliczy sumę kwadratów kolejnych liczb naturalnych mniejszych od zadanej wartości."
   ]
  },
  {
   "cell_type": "code",
   "execution_count": 8,
   "metadata": {
    "colab": {
     "base_uri": "https://localhost:8080/"
    },
    "id": "a4w3_ulvyVbS",
    "outputId": "c05cd48d-d5e8-48e4-8b2b-e64dd4af2e23"
   },
   "outputs": [
    {
     "name": "stdout",
     "output_type": "stream",
     "text": [
      "0 5 0\n",
      "1 5 1\n",
      "2 5 5\n",
      "3 5 14\n",
      "4 5 30\n",
      "30\n"
     ]
    }
   ],
   "source": [
    "def suma_kwadratow(n):\n",
    "    suma = 0\n",
    "    for i in range(n):\n",
    "        suma += i ** 2\n",
    "        print(i,n,suma)\n",
    "    return suma\n",
    "print(suma_kwadratow(5))"
   ]
  },
  {
   "cell_type": "markdown",
   "metadata": {
    "id": "7fvQmZS7yVfa"
   },
   "source": [
    "4. sprawdzi, czy podana liczba jest pierwsza.\n"
   ]
  },
  {
   "cell_type": "code",
   "execution_count": null,
   "metadata": {
    "colab": {
     "base_uri": "https://localhost:8080/"
    },
    "id": "XMRDSEVryVkW",
    "outputId": "cd1bff42-3b82-47b3-e643-45e5d150c39d"
   },
   "outputs": [
    {
     "name": "stdout",
     "output_type": "stream",
     "text": [
      "False\n",
      "True\n"
     ]
    }
   ],
   "source": [
    "def czy_pierwsza(n):\n",
    "    for i in range(2, n):\n",
    "        if n % i == 0:\n",
    "            return False\n",
    "    return True\n",
    "\n",
    "print(czy_pierwsza(12))\n",
    "print(czy_pierwsza(13))"
   ]
  },
  {
   "cell_type": "markdown",
   "metadata": {
    "id": "gRPQvA8ryVor"
   },
   "source": [
    "5. znajdzie dzielniki podanej liczby."
   ]
  },
  {
   "cell_type": "code",
   "execution_count": null,
   "metadata": {
    "colab": {
     "base_uri": "https://localhost:8080/"
    },
    "id": "kqqVkOg7yXhj",
    "outputId": "3a288f44-ad6f-4b1b-cec4-88108073746f"
   },
   "outputs": [
    {
     "name": "stdout",
     "output_type": "stream",
     "text": [
      "4\n"
     ]
    }
   ],
   "source": [
    "from math import sqrt\n",
    "def ile(n):\n",
    "    licznik = 0\n",
    "    for i in range(1, int(sqrt(n))+1):\n",
    "        if n % i == 0:\n",
    "            licznik += 1\n",
    "            # print(i)\n",
    "    if sqrt(n)*sqrt(n) == n:\n",
    "        return 2*licznik - 1\n",
    "    else:\n",
    "        return 2*licznik\n",
    "\n",
    "print(ile(6))"
   ]
  },
  {
   "cell_type": "markdown",
   "metadata": {
    "id": "1uWKPe_3yXoq"
   },
   "source": [
    "6. zwróci rozkład zadanej liczby na dzielniki pierwsze.\n"
   ]
  },
  {
   "cell_type": "code",
   "execution_count": 10,
   "metadata": {
    "colab": {
     "base_uri": "https://localhost:8080/"
    },
    "id": "4r3wlS7QyXvq",
    "outputId": "c157ec4c-9e12-4519-90be-81f225b37072"
   },
   "outputs": [
    {
     "name": "stdout",
     "output_type": "stream",
     "text": [
      "[17]\n"
     ]
    }
   ],
   "source": [
    "\n",
    "def rozloz(n):\n",
    "    czynniki = []\n",
    "    k = 2\n",
    "    while n != 1:\n",
    "        while n % k == 0:\n",
    "            n //= k\n",
    "            czynniki.append(k)\n",
    "        k += 1\n",
    "    \n",
    "    return czynniki\n",
    "print(rozloz(17))"
   ]
  },
  {
   "cell_type": "markdown",
   "metadata": {
    "id": "RfUMKiFByX06"
   },
   "source": [
    "7. znajdzie najmniejszą wspólna wielokrotność podanych dwóch liczb.\n"
   ]
  },
  {
   "cell_type": "code",
   "execution_count": 12,
   "metadata": {
    "colab": {
     "base_uri": "https://localhost:8080/"
    },
    "id": "c4gbKleEyX6F",
    "outputId": "033a3cb6-ee60-470d-fc5f-e8b7dd187597"
   },
   "outputs": [
    {
     "name": "stdout",
     "output_type": "stream",
     "text": [
      "6\n",
      "12\n",
      "36\n"
     ]
    }
   ],
   "source": [
    "\n",
    "def nwd(a, b):\n",
    "    if b > 0:\n",
    "        return nwd(b, a%b)\n",
    "    else:\n",
    "        return a\n",
    "def nww(a, b): \n",
    "  return a*b//nwd(a, b)\n",
    "\n"
   ]
  },
  {
   "cell_type": "markdown",
   "metadata": {
    "id": "LJ_PtsGcyX_D"
   },
   "source": [
    "8. przedstawi zadaną liczbę w postaci binarnej.\n"
   ]
  },
  {
   "cell_type": "code",
   "execution_count": 20,
   "metadata": {
    "colab": {
     "base_uri": "https://localhost:8080/"
    },
    "id": "mR68f4T8yYEt",
    "outputId": "f6fc21c9-d5e8-4324-95cd-c4c3d15a53e1"
   },
   "outputs": [
    {
     "name": "stdout",
     "output_type": "stream",
     "text": [
      "11110\n"
     ]
    }
   ],
   "source": [
    "def bina(a):\n",
    "    binary=bin(a)\n",
    "    return (binary)\n",
    "print(bina(30)[2:])\n"
   ]
  },
  {
   "cell_type": "markdown",
   "metadata": {
    "id": "ZJJjKCtbyYKN"
   },
   "source": [
    "9. dla zadanych wartości współczynników trójmianu kwadratowego znajdzie jego miejsca zerowe."
   ]
  },
  {
   "cell_type": "code",
   "execution_count": 25,
   "metadata": {
    "id": "UBP26ACZyYPy"
   },
   "outputs": [
    {
     "name": "stdout",
     "output_type": "stream",
     "text": [
      "(-7.16227766016838, -0.8377223398316205)\n"
     ]
    }
   ],
   "source": [
    "import math\n",
    "\n",
    "def miejsca_zerowe(a, b, c):\n",
    "    delta = b**2 - 4*a*c\n",
    "    if delta < 0:\n",
    "        return None\n",
    "    elif delta == 0:\n",
    "        x = -b / (2*a)\n",
    "        return x\n",
    "    else:\n",
    "        x1 = (-b - math.sqrt(delta)) / (2*a)\n",
    "        x2 = (-b + math.sqrt(delta)) / (2*a)\n",
    "        return x1, x2\n",
    "print(miejsca_zerowe(1,8,6))"
   ]
  },
  {
   "cell_type": "markdown",
   "metadata": {
    "id": "dk8qCK9TyYei"
   },
   "source": [
    "10. dla danego n obliczy n! . Podaj różne rozwiązania tego problemu.\n"
   ]
  },
  {
   "cell_type": "code",
   "execution_count": 27,
   "metadata": {
    "id": "WmoVA_jtyYji"
   },
   "outputs": [
    {
     "name": "stdout",
     "output_type": "stream",
     "text": [
      "5040\n",
      "40320\n"
     ]
    }
   ],
   "source": [
    "def silnia(n):\n",
    "    if n > 1:\n",
    "        return n*silnia(n-1)\n",
    "    return 1\n",
    "print(silnia(7))\n",
    "def silnia2(n):\n",
    "    wynik = 1\n",
    "    i = 1\n",
    "    while i <= n:\n",
    "        wynik *= i\n",
    "        i += 1\n",
    "    return wynik\n",
    "print(silnia2(8))"
   ]
  },
  {
   "cell_type": "markdown",
   "metadata": {
    "id": "Ap3bC9xlyYoK"
   },
   "source": [
    "11. oblicza n-tą liczbę Fibonacciego (n duże)."
   ]
  },
  {
   "cell_type": "code",
   "execution_count": 28,
   "metadata": {
    "id": "mTPEgWyUyYta"
   },
   "outputs": [
    {
     "name": "stdout",
     "output_type": "stream",
     "text": [
      "139583862445\n"
     ]
    }
   ],
   "source": [
    "def fib_i(n):\n",
    "    if n == 0: return 0\n",
    "    elif n == 1: return 1\n",
    "    p, w = 0, 1\n",
    "    for i in range(n-1):\n",
    "        p, w = w, p+w\n",
    "    return w\n",
    "print(fib_i(55))"
   ]
  },
  {
   "cell_type": "markdown",
   "metadata": {
    "id": "0Hs5vSz0yYyV"
   },
   "source": [
    "12. dla dowolnej ilości argumentów zwróci ich skumulowane sumy częściowe.\n"
   ]
  },
  {
   "cell_type": "code",
   "execution_count": 30,
   "metadata": {
    "id": "0oCROQNGyY29"
   },
   "outputs": [
    {
     "name": "stdout",
     "output_type": "stream",
     "text": [
      "(1, 3, 6, 10, 15)\n"
     ]
    }
   ],
   "source": [
    "def sumyczesciowe(*args):\n",
    "    result = []\n",
    "    total = 0\n",
    "    for arg in args:\n",
    "        total += arg\n",
    "        result.append(total)\n",
    "    return tuple(result)\n",
    "print(sumyczesciowe(1, 2, 3, 4, 5))"
   ]
  },
  {
   "cell_type": "markdown",
   "metadata": {
    "id": "q5M-q5bKyY7-"
   },
   "source": [
    "13. dla dowolnej ilości argumentów liczbowych zwróci ich średnią arytmetyczną."
   ]
  },
  {
   "cell_type": "code",
   "execution_count": 33,
   "metadata": {
    "id": "wlUie8Cd8YC4"
   },
   "outputs": [
    {
     "name": "stdout",
     "output_type": "stream",
     "text": [
      "17.8\n"
     ]
    }
   ],
   "source": [
    "def avg(*args):\n",
    "    total = 0\n",
    "    count = 0\n",
    "    for arg in args:\n",
    "        total += arg\n",
    "        count += 1\n",
    "    return total / count if count > 0 else 0\n",
    "print(avg(1, 4, 3, 4, 77))"
   ]
  },
  {
   "cell_type": "markdown",
   "metadata": {
    "id": "YE_76qTZ8Yxw"
   },
   "source": [
    "14. dla zadanego łancucha znaków zwróci łańcuch ze znakami w odwrotnej kolejności."
   ]
  },
  {
   "cell_type": "code",
   "execution_count": 36,
   "metadata": {
    "colab": {
     "base_uri": "https://localhost:8080/",
     "height": 287
    },
    "id": "3REI8-bc8dNh",
    "outputId": "c46ae26c-7820-4df5-a2e9-51c947cf99c2"
   },
   "outputs": [
    {
     "name": "stdout",
     "output_type": "stream",
     "text": [
      "kamilŚlimaK\n"
     ]
    }
   ],
   "source": [
    "def odwrotna(tekst):\n",
    "    return ''.join(reversed(tekst))\n",
    "print(odwrotna('KamilŚlimak'))"
   ]
  },
  {
   "cell_type": "markdown",
   "metadata": {
    "id": "rOdQAcpJ8kio"
   },
   "source": [
    "15. dla danego łańcucha znaków zwróci informację ile jest w nim dużych, a ile małych liter.\n"
   ]
  },
  {
   "cell_type": "code",
   "execution_count": 42,
   "metadata": {
    "id": "1mQIF_Ri8kux"
   },
   "outputs": [
    {
     "name": "stdout",
     "output_type": "stream",
     "text": [
      "('Duże:', 3, 'Małe:', 7)\n"
     ]
    }
   ],
   "source": [
    "def upper_lower(string):\n",
    "    upper_count = 0\n",
    "    lower_count = 0\n",
    "    \n",
    "    for char in string:\n",
    "        if char.isupper():\n",
    "            upper_count += 1\n",
    "        elif char.islower():\n",
    "            lower_count += 1\n",
    "    \n",
    "    return ('Duże:',upper_count,'Małe:', lower_count)\n",
    "print(upper_lower('By The River'))"
   ]
  },
  {
   "cell_type": "markdown",
   "metadata": {
    "id": "QQ4B4W9u8k4q"
   },
   "source": [
    "16. dla danej tablicy zwróci tablicę z jej unikalnymi elementami.\n"
   ]
  },
  {
   "cell_type": "code",
   "execution_count": 43,
   "metadata": {
    "id": "vhI5_RrQ8lCJ"
   },
   "outputs": [
    {
     "name": "stdout",
     "output_type": "stream",
     "text": [
      "[2305, 11243, 1, 86743]\n"
     ]
    }
   ],
   "source": [
    "def unikalne(array):\n",
    "    return list(set(array))\n",
    "print(unikalne([2305, 11243, 86743,1,2305, 11243, 86743]))"
   ]
  },
  {
   "cell_type": "markdown",
   "metadata": {
    "id": "ZF199SdG8lKx"
   },
   "source": [
    "17. dla zadanego łańcucha znaków zwróci słownik ze statystykami na temat częstości występowania poszczególnych znaków.\n"
   ]
  },
  {
   "cell_type": "code",
   "execution_count": 44,
   "metadata": {
    "id": "s4UHsn-J8lTR"
   },
   "outputs": [
    {
     "name": "stdout",
     "output_type": "stream",
     "text": [
      "{'K': 1, 'a': 2, 'm': 2, 'i': 2, 'l': 2, ' ': 1, 'Ś': 1, 'k': 1}\n"
     ]
    }
   ],
   "source": [
    "def wystepowanie(string):\n",
    "    freq = {}\n",
    "    for char in string:\n",
    "        if char in freq:\n",
    "            freq[char] += 1\n",
    "        else:\n",
    "            freq[char] = 1\n",
    "    return freq\n",
    "print(wystepowanie('Kamil Ślimak'))"
   ]
  },
  {
   "cell_type": "markdown",
   "metadata": {
    "id": "cxPAIaXP8lbI"
   },
   "source": [
    "18. dla zadanego stringa zwróci liste słów, na które można go podzielić.\n"
   ]
  },
  {
   "cell_type": "code",
   "execution_count": 45,
   "metadata": {
    "id": "M-z0n6uQ8ljQ"
   },
   "outputs": [
    {
     "name": "stdout",
     "output_type": "stream",
     "text": [
      "['Ultradźwiękowy', 'stymulator', 'zrostu', 'kości.']\n"
     ]
    }
   ],
   "source": [
    "def podzial(text):\n",
    "    words = text.split()\n",
    "    return words\n",
    "print(podzial('Ultradźwiękowy stymulator zrostu kości.'))"
   ]
  },
  {
   "cell_type": "markdown",
   "metadata": {
    "id": "qW8LQYIy8lrp"
   },
   "source": [
    "19. dla zadanego string zwróci jego postać w notacji wielbłądziej, np. dla ”ala ma pythona” otrzymamy ’alaMaPythona’.\n"
   ]
  },
  {
   "cell_type": "code",
   "execution_count": 47,
   "metadata": {
    "id": "xoAS48Mg8lzp"
   },
   "outputs": [
    {
     "name": "stdout",
     "output_type": "stream",
     "text": [
      "alaMaPythona\n"
     ]
    }
   ],
   "source": [
    "def to_camel(text):\n",
    "    words = text.split()\n",
    "    camel_case_words = [words[0].lower()]\n",
    "    for word in words[1:]:\n",
    "        camel_case_words.append(word.capitalize())\n",
    "    camel_case_text = ''.join(camel_case_words)\n",
    "    return camel_case_text\n",
    "print(to_camel('ala ma pythona'))\n"
   ]
  },
  {
   "cell_type": "markdown",
   "metadata": {
    "id": "d7nparmt8l7h"
   },
   "source": [
    "20. dla stringa w postaci wielbłądziej zwróci jego postać ”normalną”, np. dla ’alaMaPythona’ otrzymamy ”ala ma pythona”.\n"
   ]
  },
  {
   "cell_type": "code",
   "execution_count": 48,
   "metadata": {
    "id": "xGJvChkK8mC5"
   },
   "outputs": [
    {
     "name": "stdout",
     "output_type": "stream",
     "text": [
      "ala ma pythona\n"
     ]
    }
   ],
   "source": [
    "def from_camel(s):\n",
    "    result = \"\"\n",
    "    for i, c in enumerate(s):\n",
    "        if c.isupper() and i > 0:\n",
    "            result += \" \"\n",
    "        result += c\n",
    "    return result.lower()\n",
    "print(from_camel( 'alaMaPythona'))\n"
   ]
  },
  {
   "cell_type": "markdown",
   "metadata": {
    "id": "Lk73XUDm8mKp"
   },
   "source": [
    "21. zgodnie z metodą babilońską obliczy przybliżenie pierwiastka kwadratowego danej liczby.\n"
   ]
  },
  {
   "cell_type": "code",
   "execution_count": 52,
   "metadata": {
    "id": "dXojTUcS8mUB"
   },
   "outputs": [
    {
     "name": "stdout",
     "output_type": "stream",
     "text": [
      "3.3166247903554\n"
     ]
    }
   ],
   "source": [
    "def sqrt_babyl(a, n=1000):\n",
    "    x = a/2\n",
    "    for i in range(n):\n",
    "        x = (x + a/x)/2\n",
    "    return x\n",
    "print(sqrt_babyl(11))\n"
   ]
  },
  {
   "cell_type": "markdown",
   "metadata": {
    "id": "fN4w1bcu8mcA"
   },
   "source": [
    "22. przybliża wartość π (metoda Monte-Carlo).\n"
   ]
  },
  {
   "cell_type": "code",
   "execution_count": 59,
   "metadata": {
    "id": "-xbKJQi98mjq"
   },
   "outputs": [
    {
     "name": "stdout",
     "output_type": "stream",
     "text": [
      "4.0\n",
      "3.2\n",
      "3.139210339210339\n"
     ]
    }
   ],
   "source": [
    "import random\n",
    "\n",
    "def pi(iterations):\n",
    "    inside_circle = 0\n",
    "    total = 0\n",
    "    \n",
    "    for i in range(iterations):\n",
    "        x = random.uniform(-1, 1)\n",
    "        y = random.uniform(-1, 1)\n",
    "        \n",
    "        if x**2 + y**2 <= 1:\n",
    "            inside_circle += 1\n",
    "        \n",
    "        total += 1\n",
    "    \n",
    "    return 4 * inside_circle / total\n",
    "print(pi(10))\n",
    "print(pi(110))\n",
    "print(pi(1111110))"
   ]
  },
  {
   "cell_type": "markdown",
   "metadata": {
    "id": "JdHESISW8mrx"
   },
   "source": [
    "23. dla list a = [1, 2, 3] i b = [4, 5, 6] zwróci wynik c = [(1, 4),(2, 5),(3, 6)].\n"
   ]
  },
  {
   "cell_type": "code",
   "execution_count": 65,
   "metadata": {
    "id": "jaJaNsgx8m0I"
   },
   "outputs": [
    {
     "name": "stdout",
     "output_type": "stream",
     "text": [
      "[(1, 4), (2, 5), (3, 6)]\n"
     ]
    }
   ],
   "source": [
    "\n",
    "def lista(a,b):\n",
    "    c=list(zip(a,b))\n",
    "    return c\n",
    "print(lista([1, 2, 3],[4, 5, 6] ))"
   ]
  },
  {
   "cell_type": "markdown",
   "metadata": {
    "id": "3f4uqFlS8m76"
   },
   "source": [
    "24. dla zakresu liczb range(100) zwróci listę wartości, które są podzielne przez 3 i niepodzielne przez 5.\n"
   ]
  },
  {
   "cell_type": "code",
   "execution_count": 66,
   "metadata": {
    "id": "uRyLnXMJ8nVK"
   },
   "outputs": [
    {
     "name": "stdout",
     "output_type": "stream",
     "text": [
      "[3, 6, 9, 12, 18, 21, 24, 27, 33, 36, 39, 42, 48, 51, 54, 57, 63, 66, 69, 72, 78, 81, 84, 87, 93, 96, 99]\n"
     ]
    }
   ],
   "source": [
    "def dzielenie_przez_3_nie_5(range_limit):\n",
    "    return [x for x in range(range_limit) if x % 3 == 0 and x % 5 != 0]\n",
    "\n",
    "wynik = dzielenie_przez_3_nie_5(100)\n",
    "print(wynik)\n"
   ]
  },
  {
   "cell_type": "code",
   "execution_count": null,
   "metadata": {},
   "outputs": [],
   "source": []
  }
 ],
 "metadata": {
  "colab": {
   "provenance": []
  },
  "kernelspec": {
   "display_name": "Python 3",
   "language": "python",
   "name": "python3"
  },
  "language_info": {
   "codemirror_mode": {
    "name": "ipython",
    "version": 3
   },
   "file_extension": ".py",
   "mimetype": "text/x-python",
   "name": "python",
   "nbconvert_exporter": "python",
   "pygments_lexer": "ipython3",
   "version": "3.7.6"
  }
 },
 "nbformat": 4,
 "nbformat_minor": 1
}
