{
 "cells": [
  {
   "cell_type": "markdown",
   "metadata": {
    "slideshow": {
     "slide_type": "slide"
    }
   },
   "source": [
    "# Języki Obiektowe I (Python) - podstawy programowania obiektowego \n",
    "###### mgr inż. Arkadiusz Banasik"
   ]
  },
  {
   "cell_type": "markdown",
   "metadata": {
    "slideshow": {
     "slide_type": "slide"
    }
   },
   "source": [
    "### Krótka powtórka"
   ]
  },
  {
   "cell_type": "markdown",
   "metadata": {
    "slideshow": {
     "slide_type": "subslide"
    }
   },
   "source": [
    "+ <p>liczby i operacje na nich</p>\n",
    "\n",
    "Typ | Operacje | Metody\n",
    ":---:|:---:|:---:\n",
    "`int`|`+ - * / ** % //`|`is_integer()`, `abs()`\n",
    "`float`|`+ - * / ** % //`|`abs()`, `round()`\n",
    "`complex`|`+ - * / ** `|`.real`, `.imag`, `abs()`, `conjugate()`\n",
    "\n",
    "Konwersja typów: `int()`, `float()`, `complex()`"
   ]
  },
  {
   "cell_type": "markdown",
   "metadata": {
    "slideshow": {
     "slide_type": "subslide"
    }
   },
   "source": [
    "+ <p>łańcuchy znaków i operacje na nich</p>\n",
    "\n",
    "`string = \"ala ma pythona\"`\n",
    "\n",
    "Metoda/operator | Przykład\n",
    ":---:|:---:\n",
    "`+`|`string + string = 'ala ma pythonaala ma pythona'`\n",
    "`*`|`string * 2 = 'ala ma pythonaala ma pythona'`\n",
    "`string[x]`|`string[0] = 'a'`\n",
    "`string[x:y]`|`string[0:3] = 'ala'`\n",
    "`string[x:y:z]`|`string[0:13:2] = 'aam yhn'`\n",
    "`len()`|`len(string) = 14`\n",
    "`split()`|`string.split(' ') = ['ala', 'ma', 'pythona']`\n",
    "`replace()`|`string.replace(\"pythona\", \"kota\") = 'ala ma kota'`\n",
    "`format()`|`\"ala ma {} pythony\".format(2) = 'ala ma 2 pythony'`\n",
    "`count()`|`string.count(\"a\") = 4`\n",
    "\n",
    "Zamiana na typ string: `str()`"
   ]
  },
  {
   "cell_type": "markdown",
   "metadata": {
    "slideshow": {
     "slide_type": "subslide"
    }
   },
   "source": [
    "+ <p>instrukcje sterujące</p>\n",
    "\n",
    "```\n",
    "if warunek_1:\n",
    "    blok instrukcji 1\n",
    "elif warunek_2:\n",
    "    blok instrukcji 2\n",
    "elif warunek_3:\n",
    "    blok instrukcji 3\n",
    "else:\n",
    "    blok instrukcji 4\n",
    "```"
   ]
  },
  {
   "cell_type": "markdown",
   "metadata": {
    "slideshow": {
     "slide_type": "fragment"
    }
   },
   "source": [
    "```\n",
    "while warunek:\n",
    "    blok instrukcji\n",
    "```\n"
   ]
  },
  {
   "cell_type": "markdown",
   "metadata": {
    "slideshow": {
     "slide_type": "fragment"
    }
   },
   "source": [
    "```\n",
    "for obiekt in obiekt_iterowalny:\n",
    "    blok instrukcji\n",
    "```"
   ]
  },
  {
   "cell_type": "markdown",
   "metadata": {
    "slideshow": {
     "slide_type": "subslide"
    }
   },
   "source": [
    "+ <p>listy i krotki</p>\n",
    "\n",
    "`lista = [1, \"ala\"]`\n",
    "\n",
    "`krotka = (1, \"ala\")`\n",
    "\n",
    "Metoda/operator | Przykład\n",
    ":---:|:---:\n",
    "`+`|`lista + lista = [1, 'ala', 1, 'ala']`, `krotka + krotka = (1, 'ala', 1, 'ala')`\n",
    "`*`| `lista * 2 = [1, 'ala', 1, 'ala']`, `krotka * 2 = (1, 'ala', 1, 'ala')`\n",
    "`append()`|`lista.append(\"ma\") = [1, 'ala', 'ma']`\n",
    "`remove()`|`lista.remove(\"ala\") = [1]`\n",
    "`insert()`| `lista.insert(2,\"ma\") = [1, 'ala', 'ma']`\n",
    "`count()`|`lista.count(1) = 1`, `krotka.count(1) = 1`\n",
    "`index()`|`lista.index(1) = 0`, `krotka.index(1) = 0`\n",
    "`extend()`|`lista.extend(lista) = [1, 'ala', 1, 'ala']`\n",
    "\n",
    "Z listy na krotkę: `tuple()`\n",
    "\n",
    "Z krotki na listę: `list()`"
   ]
  },
  {
   "cell_type": "markdown",
   "metadata": {
    "slideshow": {
     "slide_type": "subslide"
    }
   },
   "source": [
    "+ <p>słowniki</p>\n",
    "\n",
    "`slownik = {\"Imie\":\"Ala\", \"wiek\":20}`\n",
    "\n",
    "Metoda/operator | Przykład\n",
    ":---:|:---:\n",
    "`keys()`|`list(slownik.keys()) = ['Imie', 'wiek']`\n",
    "`values()`|`list(slownik.values()) = ['Ala', 20]`\n",
    "`items()`|`list(slownik.items()) = [('Imie', 'Ala'), ('wiek', 20)]`"
   ]
  },
  {
   "cell_type": "markdown",
   "metadata": {
    "slideshow": {
     "slide_type": "subslide"
    }
   },
   "source": [
    "+ <p>funkcje</p>\n",
    "\n",
    "```\n",
    "def funkcja(parametr_1, parametr_2):\n",
    "    blok instrukcji\n",
    "    return wyrażenie\n",
    "```\n",
    "\n",
    "Argumenty | Przykład\n",
    ":---:|:---\n",
    "argumenty obowiązkowe|`funkcja(parametr_1, parametr_2)`\n",
    "argumenty słowa-kluczowe|`funkcja(parametr_2=wartosc_2, parametr_1=wartosc_1)`\n",
    "argumenty domyślne|`funkcja(parametr_1, parametr_2=wartosc)`\n",
    "argumenty zmiennej długości|`funkcja(*lista_argumentow)`"
   ]
  },
  {
   "cell_type": "markdown",
   "metadata": {
    "slideshow": {
     "slide_type": "fragment"
    }
   },
   "source": [
    "**Funkcje lambda**\n",
    "````\n",
    "nazwa_funkcji = lambda parametr, parametr_2, ..., parametr_n : wyrażenie\n",
    "```"
   ]
  },
  {
   "cell_type": "markdown",
   "metadata": {
    "slideshow": {
     "slide_type": "subslide"
    }
   },
   "source": [
    "+ <p>wyrażenia listowe</p>\n",
    "\n",
    "```\n",
    "x = lista\n",
    "y = [funkcja(i) for i in lista if warunek(i)]\n",
    "```"
   ]
  },
  {
   "cell_type": "markdown",
   "metadata": {
    "slideshow": {
     "slide_type": "subslide"
    }
   },
   "source": [
    "+ <p>moduły</p>\n",
    "\n",
    "Dołączanie|Przykład wykorzystania\n",
    ":---:|:---:\n",
    "`import moduł`|`moduł.funkcja()`\n",
    "`import moduł as alias`|`alias.funkcja()`\n",
    "`from moduł import *`|`funkcja()`\n",
    "`from moduł import funkcja`|`funkcja()`"
   ]
  },
  {
   "cell_type": "markdown",
   "metadata": {},
   "source": [
    "### Operacje na plikach\n",
    "\n",
    "`f = open(plik, tryb)`\n",
    "\n",
    "Tryb|Opis \n",
    ":---:|:---:\n",
    "`'r'`|odczyt pliku\n",
    "`'w'`|zapis do pliku, nadpisuje\n",
    "`'r+'`|zapis i odczyt pliku\n",
    "`'a'`|dopisuje do pliku\n",
    "`'b'`|zapis i odczyt w trybie binarnym\n",
    "`x`|tworzy plik, zwraca błąd jeśli już istnieje"
   ]
  },
  {
   "cell_type": "code",
   "execution_count": 1,
   "metadata": {},
   "outputs": [],
   "source": [
    "f = open(\"plik.txt\", \"r\")"
   ]
  },
  {
   "cell_type": "code",
   "execution_count": 2,
   "metadata": {},
   "outputs": [
    {
     "name": "stdout",
     "output_type": "stream",
     "text": [
      "webowe biblioteki programistyczne\n",
      "\n",
      "a ala lubi pythona :)\n"
     ]
    }
   ],
   "source": [
    "for i in f:\n",
    "    print(i)"
   ]
  },
  {
   "cell_type": "markdown",
   "metadata": {},
   "source": [
    "**Odczyt**\n",
    "\n",
    "Metoda|Opis\n",
    ":---:|:---:\n",
    "`read()`|czyta całą zawartość pliku\n",
    "`readline()`|czyta pojedyńczą linię w pliku"
   ]
  },
  {
   "cell_type": "code",
   "execution_count": 3,
   "metadata": {},
   "outputs": [
    {
     "name": "stdout",
     "output_type": "stream",
     "text": [
      "webowe biblioteki programistyczne\n",
      "a ala lubi pythona :)\n"
     ]
    }
   ],
   "source": [
    "f = open(\"plik.txt\", \"rt\")\n",
    "print(f.read())"
   ]
  },
  {
   "cell_type": "markdown",
   "metadata": {},
   "source": [
    "**Zamknięcie pliku**\n",
    "\n",
    "`f.close()`"
   ]
  },
  {
   "cell_type": "markdown",
   "metadata": {
    "slideshow": {
     "slide_type": "slide"
    }
   },
   "source": [
    "### Klasy"
   ]
  },
  {
   "cell_type": "markdown",
   "metadata": {
    "slideshow": {
     "slide_type": "fragment"
    }
   },
   "source": [
    "Klasy w Pythonie tworzymy następująco: \n",
    "```\n",
    "class nazwa_klasy:\n",
    "    pola\n",
    "    metody\n",
    "```\n",
    "**Uwaga**\n",
    "\n",
    "Niektórzy `pola` i `metody` klasy określają jednym mianem `atrybutu`."
   ]
  },
  {
   "cell_type": "markdown",
   "metadata": {
    "slideshow": {
     "slide_type": "subslide"
    }
   },
   "source": [
    "Metody w Pythonie mają budowę:\n",
    "\n",
    "```def metoda(self, argumenty):\n",
    "        polecenia\n",
    "```"
   ]
  },
  {
   "cell_type": "markdown",
   "metadata": {
    "slideshow": {
     "slide_type": "subslide"
    }
   },
   "source": [
    "#### Konstruktor\n",
    "\n",
    "Niektóre z metod jak np. konstruktor są nieco innej budowy:\n",
    "\n",
    "```\n",
    "def __init__(self, pole_1, pole_2,...):\n",
    "    self.pole_1=pole_1\n",
    "    self.pole_2=pole_2\n",
    "    ...\n",
    "```"
   ]
  },
  {
   "cell_type": "markdown",
   "metadata": {
    "slideshow": {
     "slide_type": "fragment"
    }
   },
   "source": [
    "Powyższy konstruktor dynamicznie stworzy pola podane jako argumenty. Będzie można się do nich odwoływać za pomocą `self.pole_1` itp."
   ]
  },
  {
   "cell_type": "code",
   "execution_count": 4,
   "metadata": {
    "slideshow": {
     "slide_type": "subslide"
    }
   },
   "outputs": [],
   "source": [
    "class Osoba:\n",
    "    \"Opis klasy\"\n",
    "    \n",
    "    def __init__(self, imie, nazwisko, wiek):\n",
    "        self.imie=imie\n",
    "        self.nazwisko=nazwisko\n",
    "        self.wiek=wiek"
   ]
  },
  {
   "cell_type": "markdown",
   "metadata": {
    "slideshow": {
     "slide_type": "subslide"
    }
   },
   "source": [
    "#### Tworzenie obiektu\n",
    "\n",
    "Instancję klasy tworzymy wg schematu:\n",
    "\n",
    "`obiekt = Klasa(parametry)`"
   ]
  },
  {
   "cell_type": "code",
   "execution_count": 5,
   "metadata": {
    "slideshow": {
     "slide_type": "fragment"
    }
   },
   "outputs": [],
   "source": [
    "osoba_1 = Osoba(\"Jan\", \"Kowalski\", 33)"
   ]
  },
  {
   "cell_type": "markdown",
   "metadata": {
    "slideshow": {
     "slide_type": "subslide"
    }
   },
   "source": [
    "#### Metoda `__doc__`\n",
    "\n",
    "Dokumentację klasy wywołujemy poprzez polecenie"
   ]
  },
  {
   "cell_type": "code",
   "execution_count": 6,
   "metadata": {
    "slideshow": {
     "slide_type": "fragment"
    }
   },
   "outputs": [
    {
     "data": {
      "text/plain": [
       "'Opis klasy'"
      ]
     },
     "execution_count": 6,
     "metadata": {},
     "output_type": "execute_result"
    }
   ],
   "source": [
    "Osoba.__doc__"
   ]
  },
  {
   "cell_type": "markdown",
   "metadata": {
    "slideshow": {
     "slide_type": "subslide"
    }
   },
   "source": [
    "#### Metoda `__dict__`\n",
    "\n",
    "Wywołując polecenie `__dict__` na obiekcie zwrócony zostanie słownik z polami i wartościami pól klasy."
   ]
  },
  {
   "cell_type": "code",
   "execution_count": 7,
   "metadata": {
    "slideshow": {
     "slide_type": "fragment"
    }
   },
   "outputs": [
    {
     "data": {
      "text/plain": [
       "{'imie': 'Jan', 'nazwisko': 'Kowalski', 'wiek': 33}"
      ]
     },
     "execution_count": 7,
     "metadata": {},
     "output_type": "execute_result"
    }
   ],
   "source": [
    "osoba_1.__dict__"
   ]
  },
  {
   "cell_type": "markdown",
   "metadata": {
    "slideshow": {
     "slide_type": "subslide"
    }
   },
   "source": [
    "#### Metoda `__str__()`\n",
    "\n",
    "Aby wydrukować informację o klasie możemy dodać metodę `__str__()`:"
   ]
  },
  {
   "cell_type": "code",
   "execution_count": 8,
   "metadata": {
    "slideshow": {
     "slide_type": "fragment"
    }
   },
   "outputs": [
    {
     "name": "stdout",
     "output_type": "stream",
     "text": [
      "Osoba: Jan Kowalski, wiek: 33\n"
     ]
    }
   ],
   "source": [
    "class Osoba:\n",
    "    \"Klasa Osoba\"\n",
    "    \n",
    "    def __init__(self, imie, nazwisko, wiek):\n",
    "        self.imie=imie\n",
    "        self.nazwisko=nazwisko\n",
    "        self.wiek=wiek\n",
    "        \n",
    "    def __str__(self):\n",
    "        return 'Osoba: {} {}, wiek: {}'.format(self.imie, self.nazwisko, self.wiek)            \n",
    "\n",
    "osoba_1 = Osoba(\"Jan\", \"Kowalski\", 33)\n",
    "print(osoba_1)"
   ]
  },
  {
   "cell_type": "markdown",
   "metadata": {
    "slideshow": {
     "slide_type": "subslide"
    }
   },
   "source": [
    "#### Atrybut `__slots__`\n",
    "\n",
    "W klasie mogą występować również z góry ustalone pola. Za taką definicję pól odpowiada atrybut `__slots__`, któremu można przypisać napis, obiekt iterowalny lub sekwencję napisów, które będą nazwami pól."
   ]
  },
  {
   "cell_type": "code",
   "execution_count": 9,
   "metadata": {
    "slideshow": {
     "slide_type": "fragment"
    }
   },
   "outputs": [
    {
     "name": "stdout",
     "output_type": "stream",
     "text": [
      "Osoba: Jan Kowalski, wiek: 33\n"
     ]
    }
   ],
   "source": [
    "class Osoba:\n",
    "    \"Klasa Osoba\"\n",
    "    \n",
    "    __slots__ = [\"imie\", \"nazwisko\", \"wiek\"]\n",
    "    \n",
    "    def __init__(self, imie, nazwisko, wiek):\n",
    "        self.imie=imie\n",
    "        self.nazwisko=nazwisko\n",
    "        self.wiek=wiek\n",
    "        \n",
    "    def __str__(self):\n",
    "        return 'Osoba: {} {}, wiek: {}'.format(self.imie, self.nazwisko, self.wiek)            \n",
    "\n",
    "osoba_1 = Osoba(\"Jan\", \"Kowalski\", 33)\n",
    "print(osoba_1)"
   ]
  },
  {
   "cell_type": "markdown",
   "metadata": {
    "slideshow": {
     "slide_type": "slide"
    }
   },
   "source": [
    "### Hermetyzacja\n",
    "\n",
    "Pola w Pythonie (nie)mogą być odpowiednio chronione. Tradycyjnie w OOP wyróżniamy pola:\n",
    "\n",
    "1. publiczne (ang. *public*) - dostepne z każdego poziomu\n",
    "\n",
    "2. chronione (ang. *protected*) - dostepne tylko w swojej klasie i klasach potomnych\n",
    "\n",
    "3. prywatne (ang. *private*) - dostepne tylko za pomocą odpowiednich metod (getterów i setterów)\n",
    "\n",
    "Powyższe modyfikatory dostępu dodajemy do pól poprzez podkreślniki:\n",
    "\n",
    "1. `publiczne` - domyślnie wszystkie pola Pythona\n",
    "\n",
    "2. `_protected` - podkreślnik przed nazwą\n",
    "\n",
    "3. `__private` - dwa podkreślniki przed nazwą\n"
   ]
  },
  {
   "cell_type": "code",
   "execution_count": 10,
   "metadata": {
    "slideshow": {
     "slide_type": "subslide"
    }
   },
   "outputs": [
    {
     "name": "stdout",
     "output_type": "stream",
     "text": [
      "Osoba: Jan Kowalski, wiek: 33\n"
     ]
    }
   ],
   "source": [
    "class Osoba:\n",
    "    \"Klasa Osoba\"\n",
    "    \n",
    "    __slots__ = [\"imie\", \"_nazwisko\", \"__wiek\"]\n",
    "    \n",
    "    def __init__(self, imie, nazwisko, wiek):\n",
    "        self.imie=imie\n",
    "        self._nazwisko=nazwisko\n",
    "        self.__wiek=wiek\n",
    "        \n",
    "    def __str__(self):\n",
    "        return 'Osoba: {} {}, wiek: {}'.format(self.imie, self._nazwisko, self.__wiek)            \n",
    "\n",
    "osoba_1 = Osoba(\"Jan\", \"Kowalski\", 33)\n",
    "print(osoba_1)"
   ]
  },
  {
   "cell_type": "code",
   "execution_count": 11,
   "metadata": {
    "slideshow": {
     "slide_type": "subslide"
    }
   },
   "outputs": [
    {
     "data": {
      "text/plain": [
       "'Jan'"
      ]
     },
     "execution_count": 11,
     "metadata": {},
     "output_type": "execute_result"
    }
   ],
   "source": [
    "osoba_1.imie"
   ]
  },
  {
   "cell_type": "code",
   "execution_count": 12,
   "metadata": {
    "slideshow": {
     "slide_type": "fragment"
    }
   },
   "outputs": [
    {
     "data": {
      "text/plain": [
       "'Kowalski'"
      ]
     },
     "execution_count": 12,
     "metadata": {},
     "output_type": "execute_result"
    }
   ],
   "source": [
    "osoba_1._nazwisko"
   ]
  },
  {
   "cell_type": "code",
   "execution_count": 13,
   "metadata": {
    "slideshow": {
     "slide_type": "fragment"
    }
   },
   "outputs": [
    {
     "ename": "AttributeError",
     "evalue": "'Osoba' object has no attribute '__wiek'",
     "output_type": "error",
     "traceback": [
      "\u001b[1;31m---------------------------------------------------------------------------\u001b[0m",
      "\u001b[1;31mAttributeError\u001b[0m                            Traceback (most recent call last)",
      "\u001b[1;32m<ipython-input-13-0de851b18c4e>\u001b[0m in \u001b[0;36m<module>\u001b[1;34m\u001b[0m\n\u001b[1;32m----> 1\u001b[1;33m \u001b[0mosoba_1\u001b[0m\u001b[1;33m.\u001b[0m\u001b[0m__wiek\u001b[0m\u001b[1;33m\u001b[0m\u001b[1;33m\u001b[0m\u001b[0m\n\u001b[0m",
      "\u001b[1;31mAttributeError\u001b[0m: 'Osoba' object has no attribute '__wiek'"
     ]
    }
   ],
   "source": [
    "osoba_1.__wiek"
   ]
  },
  {
   "cell_type": "code",
   "execution_count": 14,
   "metadata": {
    "slideshow": {
     "slide_type": "subslide"
    }
   },
   "outputs": [
    {
     "name": "stdout",
     "output_type": "stream",
     "text": [
      "Osoba: Jan Kowalski, wiek: 33\n"
     ]
    }
   ],
   "source": [
    "class Osoba:\n",
    "    \"Klasa Osoba\"\n",
    "    \n",
    "    __slots__ = [\"imie\", \"_nazwisko\", \"__wiek\"]\n",
    "    \n",
    "    def __init__(self, imie, nazwisko, wiek):\n",
    "        self.imie=imie\n",
    "        self._nazwisko=nazwisko\n",
    "        self.__wiek=wiek\n",
    "        \n",
    "    def set_nazwisko(self, nazwisko):\n",
    "        self._nazwisko=nazwisko\n",
    "        \n",
    "    def set_wiek(self, wiek):\n",
    "        self.__wiek=wiek\n",
    "        \n",
    "    def get_nazwisko(self):\n",
    "        return self._nazwisko\n",
    "    \n",
    "    def get_wiek(self):\n",
    "        return self.__wiek\n",
    "\n",
    "    def __str__(self):\n",
    "        return 'Osoba: {} {}, wiek: {}'.format(self.imie, self._nazwisko, self.__wiek)            \n",
    "            \n",
    "osoba_1 = Osoba(\"Jan\", \"Kowalski\", 33)\n",
    "print(osoba_1)            "
   ]
  },
  {
   "cell_type": "code",
   "execution_count": 15,
   "metadata": {
    "slideshow": {
     "slide_type": "subslide"
    }
   },
   "outputs": [
    {
     "data": {
      "text/plain": [
       "'Basia'"
      ]
     },
     "execution_count": 15,
     "metadata": {},
     "output_type": "execute_result"
    }
   ],
   "source": [
    "osoba_1.imie=\"Basia\"\n",
    "osoba_1.imie"
   ]
  },
  {
   "cell_type": "code",
   "execution_count": 16,
   "metadata": {
    "slideshow": {
     "slide_type": "subslide"
    }
   },
   "outputs": [
    {
     "data": {
      "text/plain": [
       "'Nowak'"
      ]
     },
     "execution_count": 16,
     "metadata": {},
     "output_type": "execute_result"
    }
   ],
   "source": [
    "osoba_1.set_nazwisko(\"Nowak\")\n",
    "osoba_1.get_nazwisko()"
   ]
  },
  {
   "cell_type": "code",
   "execution_count": 17,
   "metadata": {
    "slideshow": {
     "slide_type": "fragment"
    }
   },
   "outputs": [
    {
     "data": {
      "text/plain": [
       "66"
      ]
     },
     "execution_count": 17,
     "metadata": {},
     "output_type": "execute_result"
    }
   ],
   "source": [
    "osoba_1.set_wiek(66)\n",
    "osoba_1.get_wiek()"
   ]
  },
  {
   "cell_type": "code",
   "execution_count": 18,
   "metadata": {
    "slideshow": {
     "slide_type": "fragment"
    }
   },
   "outputs": [
    {
     "name": "stdout",
     "output_type": "stream",
     "text": [
      "Osoba: Basia Nowak, wiek: 66\n"
     ]
    }
   ],
   "source": [
    "print(osoba_1)"
   ]
  },
  {
   "cell_type": "code",
   "execution_count": 19,
   "metadata": {
    "slideshow": {
     "slide_type": "subslide"
    }
   },
   "outputs": [
    {
     "name": "stdout",
     "output_type": "stream",
     "text": [
      "Osoba: Jan Kowalski, wiek: 33\n"
     ]
    }
   ],
   "source": [
    "class Osoba:\n",
    "    \"Klasa Osoba\"\n",
    "        \n",
    "    def __init__(self, imie, nazwisko, wiek):\n",
    "        self.imie=imie\n",
    "        self._nazwisko=nazwisko\n",
    "        self.__wiek=wiek\n",
    "                        \n",
    "    def __str__(self):\n",
    "        return 'Osoba: {} {}, wiek: {}'.format(self.imie, self._nazwisko, self.__wiek)            \n",
    "            \n",
    "osoba_1 = Osoba(\"Jan\", \"Kowalski\", 33)\n",
    "print(osoba_1)  "
   ]
  },
  {
   "cell_type": "code",
   "execution_count": 20,
   "metadata": {
    "slideshow": {
     "slide_type": "fragment"
    }
   },
   "outputs": [
    {
     "data": {
      "text/plain": [
       "{'imie': 'Jan', '_nazwisko': 'Kowalski', '_Osoba__wiek': 33}"
      ]
     },
     "execution_count": 20,
     "metadata": {},
     "output_type": "execute_result"
    }
   ],
   "source": [
    "osoba_1.__dict__"
   ]
  },
  {
   "cell_type": "code",
   "execution_count": 21,
   "metadata": {
    "slideshow": {
     "slide_type": "fragment"
    }
   },
   "outputs": [
    {
     "name": "stdout",
     "output_type": "stream",
     "text": [
      "Osoba: Jan Kowalski, wiek: 10\n"
     ]
    }
   ],
   "source": [
    "osoba_1._Osoba__wiek=10\n",
    "\n",
    "print(osoba_1)  "
   ]
  },
  {
   "cell_type": "markdown",
   "metadata": {
    "slideshow": {
     "slide_type": "fragment"
    }
   },
   "source": [
    "**Uwaga** Python z natury jest językiem otwartym. Pythonowe modyfikatory dostępu są informacją dla programisty, że tego pola raczej nie ruszać i tylko tyle. "
   ]
  },
  {
   "cell_type": "markdown",
   "metadata": {
    "slideshow": {
     "slide_type": "subslide"
    }
   },
   "source": [
    "#### Metody `getattr` i `setattr`\n",
    "\n",
    "Zamiast samemu definiować `sety` i `gety` możemy użyć gotowych metod, które pozwolą na ten sam efekt.\n",
    "```\n",
    "getattr(obiekt, \"pole\") \n",
    "\n",
    "setattr(obiekt, \"pole\", wartość)  \n",
    "```"
   ]
  },
  {
   "cell_type": "code",
   "execution_count": 22,
   "metadata": {
    "slideshow": {
     "slide_type": "fragment"
    }
   },
   "outputs": [
    {
     "name": "stdout",
     "output_type": "stream",
     "text": [
      "Osoba: Jan Kowalski, wiek: 50\n"
     ]
    },
    {
     "data": {
      "text/plain": [
       "50"
      ]
     },
     "execution_count": 22,
     "metadata": {},
     "output_type": "execute_result"
    }
   ],
   "source": [
    "class Osoba:\n",
    "    \"Klasa Osoba\"\n",
    "        \n",
    "    def __init__(self, imie, nazwisko, wiek):\n",
    "        self.imie=imie\n",
    "        self.nazwisko=nazwisko\n",
    "        self.wiek=wiek\n",
    "                        \n",
    "    def __str__(self):\n",
    "        return 'Osoba: {} {}, wiek: {}'.format(self.imie, self.nazwisko, self.wiek)            \n",
    "            \n",
    "osoba_1 = Osoba(\"Jan\", \"Kowalski\", 33)\n",
    "setattr(osoba_1, \"wiek\", 50)\n",
    "print(osoba_1) \n",
    "getattr(osoba_1, \"wiek\")"
   ]
  },
  {
   "cell_type": "markdown",
   "metadata": {
    "slideshow": {
     "slide_type": "subslide"
    }
   },
   "source": [
    "#### Metody `hasattr` i `delattr`\n",
    "\n",
    "Ponadto można sprawdzić, czy obiekt ma dane pole i nawet go usunąć\n",
    "```\n",
    "hasattr(obiekt, \"pole\") \n",
    "delattr(obiekt, \"pole\") \n",
    "```"
   ]
  },
  {
   "cell_type": "code",
   "execution_count": 23,
   "metadata": {
    "slideshow": {
     "slide_type": "fragment"
    }
   },
   "outputs": [
    {
     "data": {
      "text/plain": [
       "(True, False)"
      ]
     },
     "execution_count": 23,
     "metadata": {},
     "output_type": "execute_result"
    }
   ],
   "source": [
    "hasattr(osoba_1, \"wiek\"), hasattr(osoba_1, \"zawod\")"
   ]
  },
  {
   "cell_type": "code",
   "execution_count": 24,
   "metadata": {
    "slideshow": {
     "slide_type": "fragment"
    }
   },
   "outputs": [],
   "source": [
    "if hasattr(osoba_1, \"wiek\"):\n",
    "    delattr(osoba_1, \"wiek\")"
   ]
  },
  {
   "cell_type": "code",
   "execution_count": 25,
   "metadata": {
    "slideshow": {
     "slide_type": "fragment"
    }
   },
   "outputs": [
    {
     "data": {
      "text/plain": [
       "{'imie': 'Jan', 'nazwisko': 'Kowalski'}"
      ]
     },
     "execution_count": 25,
     "metadata": {},
     "output_type": "execute_result"
    }
   ],
   "source": [
    "osoba_1.__dict__"
   ]
  },
  {
   "cell_type": "markdown",
   "metadata": {
    "slideshow": {
     "slide_type": "slide"
    }
   },
   "source": [
    "### Dziedziczenie\n",
    "\n",
    "Napiszmy klasę `Student`, która dziedziczy po klasie `Osoba`. `Student` prócz tego, że jest osobą, to będzie mieć dodatkowe pole `kierunek`.\n",
    "\n",
    "Wywołamy konstruktor klasy `Osoba` poprzez komendę `super().__init__(parametry)`"
   ]
  },
  {
   "cell_type": "code",
   "execution_count": 26,
   "metadata": {
    "slideshow": {
     "slide_type": "subslide"
    }
   },
   "outputs": [
    {
     "name": "stdout",
     "output_type": "stream",
     "text": [
      "Student: Jan Kowalski, wiek: 23, kierunek matematyka\n"
     ]
    }
   ],
   "source": [
    "class Student(Osoba):\n",
    "    \n",
    "    def __init__(self, imie, nazwisko, wiek, kierunek):\n",
    "        super().__init__(imie, nazwisko, wiek)\n",
    "        self.kierunek=kierunek\n",
    "     \n",
    "    def __str__(self):\n",
    "        return 'Student: {} {}, wiek: {}, kierunek {}'.format(self.imie, self.nazwisko, self.wiek, self.kierunek)\n",
    "\n",
    "student_1 = Student(\"Jan\", \"Kowalski\", 23, \"matematyka\")\n",
    "print(student_1)"
   ]
  },
  {
   "cell_type": "code",
   "execution_count": 27,
   "metadata": {
    "slideshow": {
     "slide_type": "subslide"
    }
   },
   "outputs": [
    {
     "name": "stdout",
     "output_type": "stream",
     "text": [
      "Osoba: Jan Kowalski, wiek: 23, kierunek: matematyka\n"
     ]
    }
   ],
   "source": [
    "class Student(Osoba):\n",
    "    \n",
    "    def __init__(self, imie, nazwisko, wiek, kierunek):\n",
    "        super().__init__(imie, nazwisko, wiek)\n",
    "        self.kierunek=kierunek\n",
    "        \n",
    "    def __str__(self):\n",
    "        return super().__str__() + \", kierunek: \" + self.kierunek   \n",
    "    \n",
    "student_1 = Student(\"Jan\", \"Kowalski\", 23, \"matematyka\")\n",
    "print(student_1)"
   ]
  },
  {
   "cell_type": "code",
   "execution_count": 28,
   "metadata": {
    "slideshow": {
     "slide_type": "subslide"
    }
   },
   "outputs": [
    {
     "name": "stdout",
     "output_type": "stream",
     "text": [
      "Student: Jan Kowalski, wiek: 23, kierunek: matematyka\n"
     ]
    }
   ],
   "source": [
    "class Student(Osoba):\n",
    "    \n",
    "    def __init__(self, imie, nazwisko, wiek, kierunek):\n",
    "        super().__init__(imie, nazwisko, wiek)\n",
    "        self.kierunek=kierunek\n",
    "              \n",
    "    def __str__(self):\n",
    "        student = super().__str__().replace(\"Osoba\", \"Student\", 1)\n",
    "        return student + \", kierunek: \" + self.kierunek \n",
    "\n",
    "student_1 = Student(\"Jan\", \"Kowalski\", 23, \"matematyka\")\n",
    "print(student_1)"
   ]
  },
  {
   "cell_type": "markdown",
   "metadata": {
    "slideshow": {
     "slide_type": "subslide"
    }
   },
   "source": [
    "#### Metoda `isinstance`\n",
    "\n",
    "Można łatwo sprawdzić, czy dany obiekt jest instancją konkretnej klasy poprzez polecenie `isinstance(obiekt, klasa)`"
   ]
  },
  {
   "cell_type": "code",
   "execution_count": 29,
   "metadata": {
    "slideshow": {
     "slide_type": "fragment"
    }
   },
   "outputs": [
    {
     "data": {
      "text/plain": [
       "True"
      ]
     },
     "execution_count": 29,
     "metadata": {},
     "output_type": "execute_result"
    }
   ],
   "source": [
    "isinstance(student_1, Student)"
   ]
  },
  {
   "cell_type": "markdown",
   "metadata": {
    "slideshow": {
     "slide_type": "subslide"
    }
   },
   "source": [
    "#### Metoda `issubclass`\n",
    "\n",
    "Również można łatwo sprawdzić, czy dane klasy są ze sobą *spowinowacone* używając komendy `issubclass(klasa_potomna, klasa)`"
   ]
  },
  {
   "cell_type": "code",
   "execution_count": 30,
   "metadata": {
    "slideshow": {
     "slide_type": "fragment"
    }
   },
   "outputs": [
    {
     "data": {
      "text/plain": [
       "True"
      ]
     },
     "execution_count": 30,
     "metadata": {},
     "output_type": "execute_result"
    }
   ],
   "source": [
    "issubclass(Student, Osoba)"
   ]
  },
  {
   "cell_type": "markdown",
   "metadata": {
    "slideshow": {
     "slide_type": "slide"
    }
   },
   "source": [
    "### Polimorfizm\n",
    "\n",
    "Metoda `str` została w klasie `Student` przeciążona. Inny jest jej wynik dla klasy `Osoba`, a inny dla `Student`."
   ]
  },
  {
   "cell_type": "code",
   "execution_count": 31,
   "metadata": {
    "slideshow": {
     "slide_type": "subslide"
    }
   },
   "outputs": [
    {
     "name": "stdout",
     "output_type": "stream",
     "text": [
      "Osoba: Jan Kowalski, wiek: 33\n",
      "Student: Jan Kowalski, wiek: 23, kierunek: matematyka\n"
     ]
    }
   ],
   "source": [
    "class Osoba:\n",
    "    \"Klasa Osoba\"\n",
    "        \n",
    "    def __init__(self, imie, nazwisko, wiek):\n",
    "        self.imie=imie\n",
    "        self.nazwisko=nazwisko\n",
    "        self.wiek=wiek\n",
    "                        \n",
    "    def __str__(self):\n",
    "        return 'Osoba: {} {}, wiek: {}'.format(self.imie, self.nazwisko, self.wiek)            \n",
    "\n",
    "class Student(Osoba):\n",
    "    \n",
    "    def __init__(self, imie, nazwisko, wiek, kierunek):\n",
    "        super().__init__(imie, nazwisko, wiek)\n",
    "        self.kierunek=kierunek\n",
    "              \n",
    "    def __str__(self):\n",
    "        student = super().__str__().replace(\"Osoba\", \"Student\", 1) \n",
    "        return student + \", kierunek: \" + self.kierunek \n",
    "\n",
    "student_1 = Student(\"Jan\", \"Kowalski\", 23, \"matematyka\")    \n",
    "osoba_1 = Osoba(\"Jan\", \"Kowalski\", 33)\n",
    "\n",
    "print(osoba_1)\n",
    "print(student_1)"
   ]
  },
  {
   "cell_type": "markdown",
   "metadata": {
    "collapsed": true,
    "slideshow": {
     "slide_type": "slide"
    }
   },
   "source": [
    "### Metody i pola statyczne\n",
    "\n",
    "Pola i metody statyczne to takie atrybuty klasy, do których można się odwołać bez tworzenia jej instancji. Są szczególnie użyteczne w przypadku metod o charakterze *matematycznym*."
   ]
  },
  {
   "cell_type": "markdown",
   "metadata": {
    "slideshow": {
     "slide_type": "fragment"
    }
   },
   "source": [
    "Dodajmy do klasy pole, które będzie informować ile instancji klasy zostało utworzonych. "
   ]
  },
  {
   "cell_type": "code",
   "execution_count": 32,
   "metadata": {
    "slideshow": {
     "slide_type": "fragment"
    }
   },
   "outputs": [
    {
     "data": {
      "text/plain": [
       "2"
      ]
     },
     "execution_count": 32,
     "metadata": {},
     "output_type": "execute_result"
    }
   ],
   "source": [
    "class Student(Osoba):\n",
    "    ile_studentow = 0\n",
    "    \n",
    "    def __init__(self, imie, nazwisko, wiek, kierunek):\n",
    "        super().__init__(imie, nazwisko, wiek)\n",
    "        self.kierunek=kierunek\n",
    "        Student.ile_studentow += 1\n",
    "              \n",
    "    def __str__(self):\n",
    "        student = super().__str__().replace(\"Osoba\", \"Student\", 1)\n",
    "        return student + \", kierunek: \" + self.kierunek \n",
    "\n",
    "student_1 = Student(\"Jan\", \"Kowalski\", 23, \"matematyka\")\n",
    "student_2 = Student(\"Basia\", \"Nowak\", 22, \"matematyka\")\n",
    "\n",
    "Student.ile_studentow"
   ]
  },
  {
   "cell_type": "markdown",
   "metadata": {
    "slideshow": {
     "slide_type": "subslide"
    }
   },
   "source": [
    "Dodajmy do klasy `Student` pole, które zwróci nr studenta."
   ]
  },
  {
   "cell_type": "code",
   "execution_count": 33,
   "metadata": {
    "scrolled": true,
    "slideshow": {
     "slide_type": "fragment"
    }
   },
   "outputs": [
    {
     "data": {
      "text/plain": [
       "(1, 2)"
      ]
     },
     "execution_count": 33,
     "metadata": {},
     "output_type": "execute_result"
    }
   ],
   "source": [
    "class Student(Osoba):\n",
    "    ile_studentow = 0\n",
    "    nr_studenta = 0\n",
    "    \n",
    "    def __init__(self, imie, nazwisko, wiek, kierunek):\n",
    "        super().__init__(imie, nazwisko, wiek)\n",
    "        self.kierunek=kierunek\n",
    "        Student.ile_studentow += 1\n",
    "        self.nr_studenta=Student.ile_studentow\n",
    "              \n",
    "    def __str__(self):\n",
    "        student = super().__str__().replace(\"Osoba\", \"Student\", 1)\n",
    "        return student + \", kierunek: \" + self.kierunek \n",
    "\n",
    "student_1 = Student(\"Jan\", \"Kowalski\", 23, \"matematyka\")\n",
    "student_2 = Student(\"Basia\", \"Nowak\", 22, \"matematyka\")\n",
    "\n",
    "student_1.nr_studenta, student_2.nr_studenta"
   ]
  },
  {
   "cell_type": "markdown",
   "metadata": {
    "slideshow": {
     "slide_type": "subslide"
    }
   },
   "source": [
    "#### Destruktor `__del()__`\n",
    "\n",
    "W klasie `Student` określmy dodatkowo destruktor, który zwolni nasz obiekt. Odpowiada za to metoda `__del()__`. Obiekt możemy usunąć przypisując mu wartość `None`."
   ]
  },
  {
   "cell_type": "code",
   "execution_count": 34,
   "metadata": {
    "slideshow": {
     "slide_type": "fragment"
    }
   },
   "outputs": [
    {
     "data": {
      "text/plain": [
       "2"
      ]
     },
     "execution_count": 34,
     "metadata": {},
     "output_type": "execute_result"
    }
   ],
   "source": [
    "class Student(Osoba):\n",
    "    ile_studentow = 0\n",
    "    \n",
    "    def __init__(self, imie, nazwisko, wiek, kierunek):\n",
    "        super().__init__(imie, nazwisko, wiek)\n",
    "        self.kierunek=kierunek\n",
    "        Student.ile_studentow += 1\n",
    "        \n",
    "    def __del__(self):\n",
    "        Student.ile_studentow -= 1\n",
    "              \n",
    "    def __str__(self):\n",
    "        student = super().__str__().replace(\"Osoba\", \"Student\", 1)\n",
    "        return student + \", kierunek: \" + self.kierunek \n",
    "\n",
    "student_1 = Student(\"Jan\", \"Kowalski\", 23, \"matematyka\")\n",
    "student_2 = Student(\"Basia\", \"Nowak\", 22, \"matematyka\")\n",
    "\n",
    "student_1.ile_studentow"
   ]
  },
  {
   "cell_type": "code",
   "execution_count": 35,
   "metadata": {
    "slideshow": {
     "slide_type": "fragment"
    }
   },
   "outputs": [
    {
     "name": "stdout",
     "output_type": "stream",
     "text": [
      "1\n"
     ]
    }
   ],
   "source": [
    "student_2 = None\n",
    "print(student_1.ile_studentow)\n",
    "del student_1"
   ]
  },
  {
   "cell_type": "markdown",
   "metadata": {},
   "source": [
    "### Dziękuję za uwagę"
   ]
  }
 ],
 "metadata": {
  "kernelspec": {
   "display_name": "Python 3 (ipykernel)",
   "language": "python",
   "name": "python3"
  },
  "language_info": {
   "codemirror_mode": {
    "name": "ipython",
    "version": 3
   },
   "file_extension": ".py",
   "mimetype": "text/x-python",
   "name": "python",
   "nbconvert_exporter": "python",
   "pygments_lexer": "ipython3",
   "version": "3.9.7"
  }
 },
 "nbformat": 4,
 "nbformat_minor": 2
}
