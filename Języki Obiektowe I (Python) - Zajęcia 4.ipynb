{
 "cells": [
  {
   "cell_type": "markdown",
   "metadata": {},
   "source": [
    "Zadania\n",
    "Przedmiotem dzisiejszych zajęć jest zapoznanie się z bibliotekami Math, Random i Numpy Pandas w Języku Python oraz\n",
    "rozwiązanie zadań"
   ]
  },
  {
   "cell_type": "markdown",
   "metadata": {},
   "source": [
    "1. Napisz funkcję, która pozwoli na zaszyfrowanie zawartości pliku za pomocą szyfru Cezara. Wykorzystaj metody ord() i\n",
    "chr(), które odpowiednio zwracają wartość numeryczną znaku i zamianiają liczbę na znak."
   ]
  },
  {
   "cell_type": "code",
   "execution_count": null,
   "metadata": {},
   "outputs": [],
   "source": [
    "def ceasar_cipher(filename, key):\n",
    "    \"\"\"\n",
    "    Funkcja zaszyfrowuje zawartość pliku za pomocą szyfru Cezara\n",
    "    i zapisuje zaszyfrowany tekst do nowego pliku.\n",
    "\n",
    "    :param filename: nazwa pliku do zaszyfrowania\n",
    "    :param key: klucz szyfrujący (przesunięcie)\n",
    "    \"\"\"\n",
    "\n",
    "    # Otwórz plik do odczytu i odczytaj jego zawartość\n",
    "    with open(filename, 'r') as file:\n",
    "        text = file.read()\n",
    "\n",
    "    # Zaszyfruj tekst\n",
    "    encrypted_text = ''\n",
    "    for char in text:\n",
    "        if char.isalpha():\n",
    "            # Przesuń znak o klucz (przesunięcie) pozycji w kodzie ASCII\n",
    "            new_char = chr((ord(char) - ord('a') + key) % 26 + ord('a'))\n",
    "        else:\n",
    "            new_char = char\n",
    "        encrypted_text += new_char\n",
    "\n",
    "    # Zapisz zaszyfrowany tekst do pliku\n",
    "    with open('encrypted_' + filename, 'w') as file:\n",
    "        file.write(encrypted_text)\n"
   ]
  },
  {
   "cell_type": "markdown",
   "metadata": {},
   "source": [
    "2. Za pomocą funkcji %timeit dokumentacja sprawdź, która z procedur jest szybsza:\n",
    "• ista z sinusami, których argumentami są kolejne liczby całkowite (w zakresie 0 - 106) stworzona za pomocą funkcji\n",
    "math.sin i np.sin\n",
    "• ista z wartościami [0...10 ∗ ∗6] + 1 stworzona za pomocą wyrażenia listowego i z użyciem biblioteki numpy"
   ]
  },
  {
   "cell_type": "code",
   "execution_count": null,
   "metadata": {},
   "outputs": [],
   "source": [
    "import math\n",
    "import numpy as np\n",
    "\n",
    "# Lista z sinusami, których argumentami są kolejne liczby całkowite\n",
    "def math_sin_list(n):\n",
    "    return [math.sin(x) for x in range(n)]\n",
    "\n",
    "def np_sin_list(n):\n",
    "    return np.sin(np.arange(n))\n",
    "\n",
    "# Pomiar czasu wykonania funkcji math_sin_list\n",
    "%timeit math_sin_list(10**6)\n",
    "\n",
    "# Pomiar czasu wykonania funkcji np_sin_list\n",
    "%timeit np_sin_list(10**6)\n"
   ]
  },
  {
   "cell_type": "markdown",
   "metadata": {},
   "source": [
    "3. Napisz funkcję, która doda określone wartości na końcu macierzy. Dane wejściowe [10, 20, 30] dane po rozszerzeniu [10, 20, 30, 40, 50,"
   ]
  },
  {
   "cell_type": "code",
   "execution_count": null,
   "metadata": {},
   "outputs": [],
   "source": []
  },
  {
   "cell_type": "markdown",
   "metadata": {},
   "source": [
    "4. Napisz funkcję, która wygeneruje szachownicę złożoną z 0 i 1 o podanym rozmiarze"
   ]
  },
  {
   "cell_type": "code",
   "execution_count": null,
   "metadata": {},
   "outputs": [],
   "source": [
    "def generuj_szachownice(n):\n",
    "    szachownica = []\n",
    "    for i in range(n):\n",
    "        wiersz = []\n",
    "        for j in range(n):\n",
    "            if (i+j) % 2 == 0:\n",
    "                wiersz.append(1)\n",
    "            else:\n",
    "                wiersz.append(0)\n",
    "        szachownica.append(wiersz)\n",
    "    return szachownica\n"
   ]
  },
  {
   "cell_type": "markdown",
   "metadata": {},
   "source": [
    "5. Stwórz funkcję, która przeliczy temperturę ze stopni Farneheita na stopnie Celcjusza. Dane wejściowe [0, 12, 45.21, 34, 99.91]."
   ]
  },
  {
   "cell_type": "code",
   "execution_count": null,
   "metadata": {},
   "outputs": [],
   "source": [
    "def fahr_to_celsius(fahr):\n",
    "    celsius = (fahr - 32) * 5/9\n",
    "    return celsius\n"
   ]
  },
  {
   "cell_type": "markdown",
   "metadata": {},
   "source": [
    "6. Napisz funkcję, która stworzy macierz z wartościami na przekątnej [4, 5, 6, 7] i zerami w pozostałych komórkach"
   ]
  },
  {
   "cell_type": "code",
   "execution_count": null,
   "metadata": {},
   "outputs": [],
   "source": [
    "import numpy as np\n",
    "\n",
    "def create_diagonal_matrix(diagonal_values):\n",
    "    diagonal_matrix = np.zeros((len(diagonal_values), len(diagonal_values)))\n",
    "    np.fill_diagonal(diagonal_matrix, diagonal_values)\n",
    "    return diagonal_matrix\n",
    "diagonal_values = [4, 5, 6, 7]\n",
    "diagonal_matrix = create_diagonal_matrix(diagonal_values)\n",
    "print(diagonal_matrix)"
   ]
  },
  {
   "cell_type": "markdown",
   "metadata": {},
   "source": [
    "7. Napisz funkcję, która dla danych [[1, 2, 3], [4, 5, 6], [7, 8, 9]] zwróci wynik [9, 8, 7, 6, 5, 4, 3, 2, 1]."
   ]
  },
  {
   "cell_type": "code",
   "execution_count": null,
   "metadata": {},
   "outputs": [],
   "source": [
    "def reverse_matrix(matrix):\n",
    "    # Odwrócenie kolejności wewnętrznych list\n",
    "    reversed_rows = [row[::-1] for row in matrix]\n",
    "    \n",
    "    # Odwrócenie kolejności list w ogólności\n",
    "    reversed_matrix = reversed(reversed_rows)\n",
    "    \n",
    "    # Spłaszczenie listy do postaci 1D\n",
    "    flattened_matrix = [item for sublist in reversed_matrix for item in sublist]\n",
    "    \n",
    "    return flattened_matrix\n",
    "matrix = [[1, 2, 3], [4, 5, 6], [7, 8, 9]]\n",
    "result = reverse_matrix(matrix)\n",
    "print(result)\n"
   ]
  },
  {
   "cell_type": "markdown",
   "metadata": {},
   "source": [
    "8. Z tablicy o rozmiarze 10x10, której elementy to kolejne liczby naturalne wybierz elementy, które są podzielne przez 2 i nie\n",
    "są podzielne przez 3. Rozwiązanie uzyskaj za pomocą maskowania."
   ]
  },
  {
   "cell_type": "code",
   "execution_count": null,
   "metadata": {},
   "outputs": [],
   "source": [
    "import numpy as np\n",
    "\n",
    "# Tworzenie tablicy 10x10 z kolejnymi liczbami naturalnymi\n",
    "arr = np.arange(1, 101).reshape(10, 10)\n",
    "\n",
    "# Tworzenie maski dla elementów podzielnych przez 2 i niepodzielnych przez 3\n",
    "mask = (arr % 2 == 0) & (arr % 3 != 0)\n",
    "\n",
    "# Wybieranie elementów zgodnych z maską\n",
    "result = arr[mask]\n",
    "\n",
    "print(result)\n"
   ]
  },
  {
   "cell_type": "markdown",
   "metadata": {},
   "source": [
    "9. Napisz funkcję, która wygeneruje macierz o losowych elementach (liczby całkowite z zadanego zakresu) o zadanej z góry\n",
    "wartości wyznacznika."
   ]
  }
 ],
 "metadata": {
  "kernelspec": {
   "display_name": "Python 3",
   "language": "python",
   "name": "python3"
  },
  "language_info": {
   "codemirror_mode": {
    "name": "ipython",
    "version": 3
   },
   "file_extension": ".py",
   "mimetype": "text/x-python",
   "name": "python",
   "nbconvert_exporter": "python",
   "pygments_lexer": "ipython3",
   "version": "3.7.6"
  }
 },
 "nbformat": 4,
 "nbformat_minor": 4
}
