{
 "cells": [
  {
   "cell_type": "markdown",
   "metadata": {},
   "source": [
    "Zadania\n",
    "Przedmiotem dzisiejszych zajęć jest zapoznanie się z biblioteką Pandas w Języku Python oraz rozwiązanie zadań.\n"
   ]
  },
  {
   "cell_type": "markdown",
   "metadata": {},
   "source": [
    "Zestaw 1\n",
    "1. Wczytaj plik nauczyciele.csv, w którym znajdują się dane odnośnie zatrudnienia nauczycieli akademickich w Polsce w\n",
    "wybranych latach, z podziałem na stanowisko i płeć. Rozróżnione są dodatkowo uniwersystety i szkoły techniczne."
   ]
  },
  {
   "cell_type": "code",
   "execution_count": null,
   "metadata": {},
   "outputs": [],
   "source": []
  },
  {
   "cell_type": "markdown",
   "metadata": {},
   "source": [
    "2. Przygotuj dane do dalszej analizy (usuń zbędne wiersze i kolumny, zwróć uwagę na typ danych)"
   ]
  },
  {
   "cell_type": "code",
   "execution_count": null,
   "metadata": {},
   "outputs": [],
   "source": []
  },
  {
   "cell_type": "markdown",
   "metadata": {},
   "source": [
    "3. Stwórz następujące wykresy:\n",
    "• zestawienie nauczycieli akademickich zatrudnionych na dowolnym etacie w latach 2014-2018 z podziałem na woje\u0002wództwo\n",
    "• zestawienie różnych stanowisk (asystenci, adiunkcji, profesorowie) zatrudnionych w latach 2014-2018 w województwie\n",
    "śląskim\n",
    "• zestawienie nauczycieli akademickich zatrudnionych na uniwersytetach i szkołach technicznych z podziałem na płcie\n",
    "w województwie śląskim"
   ]
  },
  {
   "cell_type": "code",
   "execution_count": null,
   "metadata": {},
   "outputs": [],
   "source": []
  },
  {
   "cell_type": "code",
   "execution_count": null,
   "metadata": {},
   "outputs": [],
   "source": [
    "Zestaw 2\n",
    "1. Wczytaj plik inflacja.xlsx, w którym znajdują się dane dotyczące poziomu inflacji w Polsce (kolejne skoroszyty).\n"
   ]
  },
  {
   "cell_type": "code",
   "execution_count": null,
   "metadata": {},
   "outputs": [],
   "source": []
  },
  {
   "cell_type": "markdown",
   "metadata": {},
   "source": [
    "2. Przygotuj dane do dalszej analizy (usuń zbędne wiersze i kolumny, zwróć uwagę na typ danych)."
   ]
  },
  {
   "cell_type": "code",
   "execution_count": null,
   "metadata": {},
   "outputs": [],
   "source": []
  },
  {
   "cell_type": "markdown",
   "metadata": {},
   "source": [
    "3. Stwórz następujące wykresy:\n",
    "• zestawienie roku 2017, 2018 i 2019 w odniesieniu do grudnia poprzeniego roku (Table 1)\n",
    "• zestawienie października roku 2017, 2018 i 2019 w odniesieniu do poprzeniego miesiąca danego roku (Table 2)\n",
    "• zestawienie roku 2017, 2018 i 2019 w odniesieniu do analogicznego miesiąca poprzedniego roku (Table 3)\n"
   ]
  },
  {
   "cell_type": "code",
   "execution_count": null,
   "metadata": {},
   "outputs": [],
   "source": []
  },
  {
   "cell_type": "markdown",
   "metadata": {},
   "source": [
    "4. W danych znajdź:\n",
    "• wartości największa i najmniejszą w każdej kategorii\n",
    "• wyznacz nawyższe wartości inflacji w poszczególnych latach\n",
    "• wyznacz średnią wartośc inflacji w poszczególnych latach"
   ]
  },
  {
   "cell_type": "code",
   "execution_count": null,
   "metadata": {},
   "outputs": [],
   "source": []
  }
 ],
 "metadata": {
  "kernelspec": {
   "display_name": "Python 3",
   "language": "python",
   "name": "python3"
  },
  "language_info": {
   "codemirror_mode": {
    "name": "ipython",
    "version": 3
   },
   "file_extension": ".py",
   "mimetype": "text/x-python",
   "name": "python",
   "nbconvert_exporter": "python",
   "pygments_lexer": "ipython3",
   "version": "3.7.6"
  }
 },
 "nbformat": 4,
 "nbformat_minor": 4
}
